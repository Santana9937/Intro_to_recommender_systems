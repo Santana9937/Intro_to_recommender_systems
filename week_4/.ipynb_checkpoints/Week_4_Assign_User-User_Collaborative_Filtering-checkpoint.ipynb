{
 "cells": [
  {
   "cell_type": "markdown",
   "metadata": {},
   "source": [
    "# Assignment 3: User-User Collaborative Filtering"
   ]
  },
  {
   "cell_type": "code",
   "execution_count": null,
   "metadata": {
    "collapsed": true
   },
   "outputs": [],
   "source": []
  },
  {
   "cell_type": "markdown",
   "metadata": {},
   "source": [
    "## Importing Libraries"
   ]
  },
  {
   "cell_type": "code",
   "execution_count": 1,
   "metadata": {
    "collapsed": true
   },
   "outputs": [],
   "source": [
    "import numpy as np\n",
    "import pandas as pd"
   ]
  },
  {
   "cell_type": "markdown",
   "metadata": {},
   "source": [
    "## Loading the Data"
   ]
  },
  {
   "cell_type": "markdown",
   "metadata": {},
   "source": [
    "Loading the movie data from Excel into a DataFrame."
   ]
  },
  {
   "cell_type": "code",
   "execution_count": 2,
   "metadata": {
    "collapsed": true
   },
   "outputs": [],
   "source": [
    "mov_user_data = pd.read_excel('Assign_3_data.xlsx')"
   ]
  },
  {
   "cell_type": "markdown",
   "metadata": {},
   "source": [
    "Converting the type of the columns in the dataframe from int to strings."
   ]
  },
  {
   "cell_type": "code",
   "execution_count": 3,
   "metadata": {
    "collapsed": true
   },
   "outputs": [],
   "source": [
    "mov_user_data.columns = [str(val) for val in list(mov_user_data.columns)]"
   ]
  },
  {
   "cell_type": "markdown",
   "metadata": {},
   "source": [
    "Looking at the head of the dataframe."
   ]
  },
  {
   "cell_type": "code",
   "execution_count": 4,
   "metadata": {
    "collapsed": false
   },
   "outputs": [
    {
     "data": {
      "text/html": [
       "<div>\n",
       "<table border=\"1\" class=\"dataframe\">\n",
       "  <thead>\n",
       "    <tr style=\"text-align: right;\">\n",
       "      <th></th>\n",
       "      <th>1648</th>\n",
       "      <th>5136</th>\n",
       "      <th>918</th>\n",
       "      <th>2824</th>\n",
       "      <th>3867</th>\n",
       "      <th>860</th>\n",
       "      <th>3712</th>\n",
       "      <th>2968</th>\n",
       "      <th>3525</th>\n",
       "      <th>4323</th>\n",
       "      <th>...</th>\n",
       "      <th>3556</th>\n",
       "      <th>5261</th>\n",
       "      <th>2492</th>\n",
       "      <th>5062</th>\n",
       "      <th>2486</th>\n",
       "      <th>4942</th>\n",
       "      <th>2267</th>\n",
       "      <th>4809</th>\n",
       "      <th>3853</th>\n",
       "      <th>2288</th>\n",
       "    </tr>\n",
       "  </thead>\n",
       "  <tbody>\n",
       "    <tr>\n",
       "      <th>11: Star Wars: Episode IV - A New Hope (1977)</th>\n",
       "      <td>NaN</td>\n",
       "      <td>4.5</td>\n",
       "      <td>5.0</td>\n",
       "      <td>4.5</td>\n",
       "      <td>4.0</td>\n",
       "      <td>4.0</td>\n",
       "      <td>NaN</td>\n",
       "      <td>5.0</td>\n",
       "      <td>4.0</td>\n",
       "      <td>5</td>\n",
       "      <td>...</td>\n",
       "      <td>4</td>\n",
       "      <td>NaN</td>\n",
       "      <td>4.5</td>\n",
       "      <td>4.0</td>\n",
       "      <td>3.5</td>\n",
       "      <td>NaN</td>\n",
       "      <td>NaN</td>\n",
       "      <td>NaN</td>\n",
       "      <td>NaN</td>\n",
       "      <td>NaN</td>\n",
       "    </tr>\n",
       "    <tr>\n",
       "      <th>12: Finding Nemo (2003)</th>\n",
       "      <td>NaN</td>\n",
       "      <td>5.0</td>\n",
       "      <td>5.0</td>\n",
       "      <td>NaN</td>\n",
       "      <td>4.0</td>\n",
       "      <td>4.0</td>\n",
       "      <td>4.5</td>\n",
       "      <td>4.5</td>\n",
       "      <td>4.0</td>\n",
       "      <td>5</td>\n",
       "      <td>...</td>\n",
       "      <td>4</td>\n",
       "      <td>NaN</td>\n",
       "      <td>3.5</td>\n",
       "      <td>4.0</td>\n",
       "      <td>2.0</td>\n",
       "      <td>3.5</td>\n",
       "      <td>NaN</td>\n",
       "      <td>NaN</td>\n",
       "      <td>NaN</td>\n",
       "      <td>3.5</td>\n",
       "    </tr>\n",
       "    <tr>\n",
       "      <th>13: Forrest Gump (1994)</th>\n",
       "      <td>NaN</td>\n",
       "      <td>5.0</td>\n",
       "      <td>4.5</td>\n",
       "      <td>5.0</td>\n",
       "      <td>4.5</td>\n",
       "      <td>4.5</td>\n",
       "      <td>NaN</td>\n",
       "      <td>5.0</td>\n",
       "      <td>4.5</td>\n",
       "      <td>5</td>\n",
       "      <td>...</td>\n",
       "      <td>4</td>\n",
       "      <td>5.0</td>\n",
       "      <td>3.5</td>\n",
       "      <td>4.5</td>\n",
       "      <td>4.5</td>\n",
       "      <td>4.0</td>\n",
       "      <td>3.5</td>\n",
       "      <td>4.5</td>\n",
       "      <td>3.5</td>\n",
       "      <td>3.5</td>\n",
       "    </tr>\n",
       "    <tr>\n",
       "      <th>14: American Beauty (1999)</th>\n",
       "      <td>NaN</td>\n",
       "      <td>4.0</td>\n",
       "      <td>NaN</td>\n",
       "      <td>NaN</td>\n",
       "      <td>NaN</td>\n",
       "      <td>NaN</td>\n",
       "      <td>4.5</td>\n",
       "      <td>2.0</td>\n",
       "      <td>3.5</td>\n",
       "      <td>5</td>\n",
       "      <td>...</td>\n",
       "      <td>4</td>\n",
       "      <td>NaN</td>\n",
       "      <td>3.5</td>\n",
       "      <td>4.5</td>\n",
       "      <td>3.5</td>\n",
       "      <td>4.0</td>\n",
       "      <td>NaN</td>\n",
       "      <td>3.5</td>\n",
       "      <td>NaN</td>\n",
       "      <td>NaN</td>\n",
       "    </tr>\n",
       "    <tr>\n",
       "      <th>22: Pirates of the Caribbean: The Curse of the Black Pearl (2003)</th>\n",
       "      <td>4</td>\n",
       "      <td>5.0</td>\n",
       "      <td>3.0</td>\n",
       "      <td>4.5</td>\n",
       "      <td>4.0</td>\n",
       "      <td>2.5</td>\n",
       "      <td>NaN</td>\n",
       "      <td>5.0</td>\n",
       "      <td>3.0</td>\n",
       "      <td>4</td>\n",
       "      <td>...</td>\n",
       "      <td>3</td>\n",
       "      <td>1.5</td>\n",
       "      <td>4.0</td>\n",
       "      <td>4.0</td>\n",
       "      <td>2.5</td>\n",
       "      <td>3.5</td>\n",
       "      <td>NaN</td>\n",
       "      <td>5.0</td>\n",
       "      <td>NaN</td>\n",
       "      <td>3.5</td>\n",
       "    </tr>\n",
       "  </tbody>\n",
       "</table>\n",
       "<p>5 rows × 25 columns</p>\n",
       "</div>"
      ],
      "text/plain": [
       "                                                    1648  5136  918  2824  \\\n",
       "11: Star Wars: Episode IV - A New Hope (1977)        NaN   4.5  5.0   4.5   \n",
       "12: Finding Nemo (2003)                              NaN   5.0  5.0   NaN   \n",
       "13: Forrest Gump (1994)                              NaN   5.0  4.5   5.0   \n",
       "14: American Beauty (1999)                           NaN   4.0  NaN   NaN   \n",
       "22: Pirates of the Caribbean: The Curse of the ...     4   5.0  3.0   4.5   \n",
       "\n",
       "                                                    3867  860  3712  2968  \\\n",
       "11: Star Wars: Episode IV - A New Hope (1977)        4.0  4.0   NaN   5.0   \n",
       "12: Finding Nemo (2003)                              4.0  4.0   4.5   4.5   \n",
       "13: Forrest Gump (1994)                              4.5  4.5   NaN   5.0   \n",
       "14: American Beauty (1999)                           NaN  NaN   4.5   2.0   \n",
       "22: Pirates of the Caribbean: The Curse of the ...   4.0  2.5   NaN   5.0   \n",
       "\n",
       "                                                    3525  4323  ...   3556  \\\n",
       "11: Star Wars: Episode IV - A New Hope (1977)        4.0     5  ...      4   \n",
       "12: Finding Nemo (2003)                              4.0     5  ...      4   \n",
       "13: Forrest Gump (1994)                              4.5     5  ...      4   \n",
       "14: American Beauty (1999)                           3.5     5  ...      4   \n",
       "22: Pirates of the Caribbean: The Curse of the ...   3.0     4  ...      3   \n",
       "\n",
       "                                                    5261  2492  5062  2486  \\\n",
       "11: Star Wars: Episode IV - A New Hope (1977)        NaN   4.5   4.0   3.5   \n",
       "12: Finding Nemo (2003)                              NaN   3.5   4.0   2.0   \n",
       "13: Forrest Gump (1994)                              5.0   3.5   4.5   4.5   \n",
       "14: American Beauty (1999)                           NaN   3.5   4.5   3.5   \n",
       "22: Pirates of the Caribbean: The Curse of the ...   1.5   4.0   4.0   2.5   \n",
       "\n",
       "                                                    4942  2267  4809  3853  \\\n",
       "11: Star Wars: Episode IV - A New Hope (1977)        NaN   NaN   NaN   NaN   \n",
       "12: Finding Nemo (2003)                              3.5   NaN   NaN   NaN   \n",
       "13: Forrest Gump (1994)                              4.0   3.5   4.5   3.5   \n",
       "14: American Beauty (1999)                           4.0   NaN   3.5   NaN   \n",
       "22: Pirates of the Caribbean: The Curse of the ...   3.5   NaN   5.0   NaN   \n",
       "\n",
       "                                                    2288  \n",
       "11: Star Wars: Episode IV - A New Hope (1977)        NaN  \n",
       "12: Finding Nemo (2003)                              3.5  \n",
       "13: Forrest Gump (1994)                              3.5  \n",
       "14: American Beauty (1999)                           NaN  \n",
       "22: Pirates of the Caribbean: The Curse of the ...   3.5  \n",
       "\n",
       "[5 rows x 25 columns]"
      ]
     },
     "execution_count": 4,
     "metadata": {},
     "output_type": "execute_result"
    }
   ],
   "source": [
    "mov_user_data.head()"
   ]
  },
  {
   "cell_type": "markdown",
   "metadata": {},
   "source": [
    "## Creating a correlation matrix dataframe"
   ]
  },
  {
   "cell_type": "markdown",
   "metadata": {},
   "source": [
    "Creating a correlation coefficient dataframe"
   ]
  },
  {
   "cell_type": "code",
   "execution_count": 5,
   "metadata": {
    "collapsed": true
   },
   "outputs": [],
   "source": [
    "corr_df = mov_user_data.corr()"
   ]
  },
  {
   "cell_type": "markdown",
   "metadata": {},
   "source": [
    "Looking at the head of the correlation coefficient dataframe"
   ]
  },
  {
   "cell_type": "code",
   "execution_count": 6,
   "metadata": {
    "collapsed": false
   },
   "outputs": [
    {
     "data": {
      "text/html": [
       "<div>\n",
       "<table border=\"1\" class=\"dataframe\">\n",
       "  <thead>\n",
       "    <tr style=\"text-align: right;\">\n",
       "      <th></th>\n",
       "      <th>1648</th>\n",
       "      <th>5136</th>\n",
       "      <th>918</th>\n",
       "      <th>2824</th>\n",
       "      <th>3867</th>\n",
       "      <th>860</th>\n",
       "      <th>3712</th>\n",
       "      <th>2968</th>\n",
       "      <th>3525</th>\n",
       "      <th>4323</th>\n",
       "      <th>...</th>\n",
       "      <th>3556</th>\n",
       "      <th>5261</th>\n",
       "      <th>2492</th>\n",
       "      <th>5062</th>\n",
       "      <th>2486</th>\n",
       "      <th>4942</th>\n",
       "      <th>2267</th>\n",
       "      <th>4809</th>\n",
       "      <th>3853</th>\n",
       "      <th>2288</th>\n",
       "    </tr>\n",
       "  </thead>\n",
       "  <tbody>\n",
       "    <tr>\n",
       "      <th>1648</th>\n",
       "      <td>1.000000</td>\n",
       "      <td>0.402980</td>\n",
       "      <td>-0.142206</td>\n",
       "      <td>0.517620</td>\n",
       "      <td>0.300200</td>\n",
       "      <td>0.480537</td>\n",
       "      <td>-0.312412</td>\n",
       "      <td>0.383348</td>\n",
       "      <td>0.092775</td>\n",
       "      <td>0.098191</td>\n",
       "      <td>...</td>\n",
       "      <td>-0.191988</td>\n",
       "      <td>0.493008</td>\n",
       "      <td>0.360644</td>\n",
       "      <td>0.551089</td>\n",
       "      <td>0.002544</td>\n",
       "      <td>0.116653</td>\n",
       "      <td>-0.429183</td>\n",
       "      <td>0.394371</td>\n",
       "      <td>-0.304422</td>\n",
       "      <td>0.245048</td>\n",
       "    </tr>\n",
       "    <tr>\n",
       "      <th>5136</th>\n",
       "      <td>0.402980</td>\n",
       "      <td>1.000000</td>\n",
       "      <td>0.118979</td>\n",
       "      <td>0.057916</td>\n",
       "      <td>0.341734</td>\n",
       "      <td>0.241377</td>\n",
       "      <td>0.131398</td>\n",
       "      <td>0.206695</td>\n",
       "      <td>0.360056</td>\n",
       "      <td>0.033642</td>\n",
       "      <td>...</td>\n",
       "      <td>0.488607</td>\n",
       "      <td>0.328120</td>\n",
       "      <td>0.422236</td>\n",
       "      <td>0.226635</td>\n",
       "      <td>0.305803</td>\n",
       "      <td>0.037769</td>\n",
       "      <td>0.240728</td>\n",
       "      <td>0.411676</td>\n",
       "      <td>0.189234</td>\n",
       "      <td>0.390067</td>\n",
       "    </tr>\n",
       "    <tr>\n",
       "      <th>918</th>\n",
       "      <td>-0.142206</td>\n",
       "      <td>0.118979</td>\n",
       "      <td>1.000000</td>\n",
       "      <td>-0.317063</td>\n",
       "      <td>0.294558</td>\n",
       "      <td>0.468333</td>\n",
       "      <td>0.092037</td>\n",
       "      <td>-0.045854</td>\n",
       "      <td>0.367568</td>\n",
       "      <td>-0.035394</td>\n",
       "      <td>...</td>\n",
       "      <td>0.373226</td>\n",
       "      <td>0.470972</td>\n",
       "      <td>0.069956</td>\n",
       "      <td>-0.054762</td>\n",
       "      <td>0.133812</td>\n",
       "      <td>0.015169</td>\n",
       "      <td>-0.273096</td>\n",
       "      <td>0.082528</td>\n",
       "      <td>0.667168</td>\n",
       "      <td>0.119162</td>\n",
       "    </tr>\n",
       "    <tr>\n",
       "      <th>2824</th>\n",
       "      <td>0.517620</td>\n",
       "      <td>0.057916</td>\n",
       "      <td>-0.317063</td>\n",
       "      <td>1.000000</td>\n",
       "      <td>-0.060913</td>\n",
       "      <td>-0.008066</td>\n",
       "      <td>0.462910</td>\n",
       "      <td>0.214760</td>\n",
       "      <td>0.169907</td>\n",
       "      <td>0.119350</td>\n",
       "      <td>...</td>\n",
       "      <td>-0.201275</td>\n",
       "      <td>0.228341</td>\n",
       "      <td>0.238700</td>\n",
       "      <td>0.259660</td>\n",
       "      <td>0.247097</td>\n",
       "      <td>0.149247</td>\n",
       "      <td>-0.361466</td>\n",
       "      <td>0.474974</td>\n",
       "      <td>-0.262073</td>\n",
       "      <td>0.166999</td>\n",
       "    </tr>\n",
       "    <tr>\n",
       "      <th>3867</th>\n",
       "      <td>0.300200</td>\n",
       "      <td>0.341734</td>\n",
       "      <td>0.294558</td>\n",
       "      <td>-0.060913</td>\n",
       "      <td>1.000000</td>\n",
       "      <td>0.282497</td>\n",
       "      <td>0.400275</td>\n",
       "      <td>0.264249</td>\n",
       "      <td>0.125193</td>\n",
       "      <td>-0.333602</td>\n",
       "      <td>...</td>\n",
       "      <td>0.174085</td>\n",
       "      <td>0.297977</td>\n",
       "      <td>0.476683</td>\n",
       "      <td>0.293868</td>\n",
       "      <td>0.438992</td>\n",
       "      <td>-0.162818</td>\n",
       "      <td>-0.295966</td>\n",
       "      <td>0.054518</td>\n",
       "      <td>0.464110</td>\n",
       "      <td>0.379856</td>\n",
       "    </tr>\n",
       "  </tbody>\n",
       "</table>\n",
       "<p>5 rows × 25 columns</p>\n",
       "</div>"
      ],
      "text/plain": [
       "          1648      5136       918      2824      3867       860      3712  \\\n",
       "1648  1.000000  0.402980 -0.142206  0.517620  0.300200  0.480537 -0.312412   \n",
       "5136  0.402980  1.000000  0.118979  0.057916  0.341734  0.241377  0.131398   \n",
       "918  -0.142206  0.118979  1.000000 -0.317063  0.294558  0.468333  0.092037   \n",
       "2824  0.517620  0.057916 -0.317063  1.000000 -0.060913 -0.008066  0.462910   \n",
       "3867  0.300200  0.341734  0.294558 -0.060913  1.000000  0.282497  0.400275   \n",
       "\n",
       "          2968      3525      4323    ...         3556      5261      2492  \\\n",
       "1648  0.383348  0.092775  0.098191    ...    -0.191988  0.493008  0.360644   \n",
       "5136  0.206695  0.360056  0.033642    ...     0.488607  0.328120  0.422236   \n",
       "918  -0.045854  0.367568 -0.035394    ...     0.373226  0.470972  0.069956   \n",
       "2824  0.214760  0.169907  0.119350    ...    -0.201275  0.228341  0.238700   \n",
       "3867  0.264249  0.125193 -0.333602    ...     0.174085  0.297977  0.476683   \n",
       "\n",
       "          5062      2486      4942      2267      4809      3853      2288  \n",
       "1648  0.551089  0.002544  0.116653 -0.429183  0.394371 -0.304422  0.245048  \n",
       "5136  0.226635  0.305803  0.037769  0.240728  0.411676  0.189234  0.390067  \n",
       "918  -0.054762  0.133812  0.015169 -0.273096  0.082528  0.667168  0.119162  \n",
       "2824  0.259660  0.247097  0.149247 -0.361466  0.474974 -0.262073  0.166999  \n",
       "3867  0.293868  0.438992 -0.162818 -0.295966  0.054518  0.464110  0.379856  \n",
       "\n",
       "[5 rows x 25 columns]"
      ]
     },
     "execution_count": 6,
     "metadata": {},
     "output_type": "execute_result"
    }
   ],
   "source": [
    "corr_df.head()"
   ]
  },
  {
   "cell_type": "markdown",
   "metadata": {
    "collapsed": true
   },
   "source": [
    "Checking correlation coefficients with test values in assignment for consistency."
   ]
  },
  {
   "cell_type": "code",
   "execution_count": 7,
   "metadata": {
    "collapsed": false
   },
   "outputs": [
    {
     "name": "stdout",
     "output_type": "stream",
     "text": [
      "True\n",
      "True\n"
     ]
    }
   ],
   "source": [
    "print abs(corr_df['1648'].ix['5136'] - 0.40298) < 1.0e3\n",
    "print abs(corr_df['918'].ix['2824'] - -0.31706) < 1.03"
   ]
  },
  {
   "cell_type": "markdown",
   "metadata": {},
   "source": [
    "For consistency check with values given in assignment, Top 5 neighbors for user 3712. Consistency check is passed."
   ]
  },
  {
   "cell_type": "code",
   "execution_count": 8,
   "metadata": {
    "collapsed": false
   },
   "outputs": [
    {
     "data": {
      "text/plain": [
       "2824    0.462910\n",
       "3867    0.400275\n",
       "5062    0.247693\n",
       "442     0.227130\n",
       "3853    0.193660\n",
       "Name: 3712, dtype: float64"
      ]
     },
     "execution_count": 8,
     "metadata": {},
     "output_type": "execute_result"
    }
   ],
   "source": [
    "corr_df['3712'].sort_values(ascending=False)[1:6]"
   ]
  },
  {
   "cell_type": "markdown",
   "metadata": {},
   "source": [
    "Top 5 neighbors for user 3867."
   ]
  },
  {
   "cell_type": "code",
   "execution_count": 9,
   "metadata": {
    "collapsed": false
   },
   "outputs": [
    {
     "data": {
      "text/plain": [
       "2492    0.476683\n",
       "3853    0.464110\n",
       "2486    0.438992\n",
       "3712    0.400275\n",
       "2288    0.379856\n",
       "Name: 3867, dtype: float64"
      ]
     },
     "execution_count": 9,
     "metadata": {},
     "output_type": "execute_result"
    }
   ],
   "source": [
    "corr_df['3867'].sort_values(ascending=False)[1:6]"
   ]
  },
  {
   "cell_type": "markdown",
   "metadata": {},
   "source": [
    "Top 5 neighbors for user 89."
   ]
  },
  {
   "cell_type": "code",
   "execution_count": 10,
   "metadata": {
    "collapsed": false
   },
   "outputs": [
    {
     "data": {
      "text/plain": [
       "4809    0.668516\n",
       "5136    0.562449\n",
       "860     0.539066\n",
       "5062    0.525990\n",
       "3525    0.475495\n",
       "Name: 89, dtype: float64"
      ]
     },
     "execution_count": 10,
     "metadata": {},
     "output_type": "execute_result"
    }
   ],
   "source": [
    "corr_df['89'].sort_values(ascending=False)[1:6]"
   ]
  },
  {
   "cell_type": "markdown",
   "metadata": {},
   "source": [
    "## Computing Predictions for movie ratings of users from the 5 nearest neighbors. Performing Predictions without Normalization and with Normalization"
   ]
  },
  {
   "cell_type": "markdown",
   "metadata": {},
   "source": [
    "#### Predictions for User 3712"
   ]
  },
  {
   "cell_type": "markdown",
   "metadata": {},
   "source": [
    "Initializing empty Series to store movie predictions (without and with normalization) for user 3712 from 5 nearest neighbors."
   ]
  },
  {
   "cell_type": "code",
   "execution_count": 11,
   "metadata": {
    "collapsed": true
   },
   "outputs": [],
   "source": [
    "pred_3712_no_norm = pd.Series(index=mov_user_data.index)\n",
    "pred_3712_wi_norm = pd.Series(index=mov_user_data.index)"
   ]
  },
  {
   "cell_type": "markdown",
   "metadata": {},
   "source": [
    "Storing the labels of the 5 nearest neighbor users and the correlation coefficients between each of these 5 nearest neighbors and user 3712."
   ]
  },
  {
   "cell_type": "code",
   "execution_count": 12,
   "metadata": {
    "collapsed": false
   },
   "outputs": [],
   "source": [
    "fiv_nn_3712 = list(corr_df['3712'].sort_values(ascending=False)[1:6].index)\n",
    "fiv_nn_3712_corr = corr_df['3712'].sort_values(ascending=False)[1:6].values"
   ]
  },
  {
   "cell_type": "markdown",
   "metadata": {},
   "source": [
    "Using the ratings of the 5 nearest neighbors and the correlations with the 5 nearest neighbors to predict the rating of user 3712 for this movie."
   ]
  },
  {
   "cell_type": "code",
   "execution_count": 13,
   "metadata": {
    "collapsed": false
   },
   "outputs": [],
   "source": [
    "for movie in pred_3712_no_norm.index:\n",
    "    ratings = np.array([ mov_user_data[fiv_nn_3712[0]].ix[movie], mov_user_data[fiv_nn_3712[1]].ix[movie], \n",
    "                         mov_user_data[fiv_nn_3712[2]].ix[movie], mov_user_data[fiv_nn_3712[3]].ix[movie], \n",
    "                         mov_user_data[fiv_nn_3712[4]].ix[movie] ])\n",
    "    ind_slice = [i for i, rat_val in enumerate(ratings) if np.isnan(rat_val)==False]\n",
    "    pred_3712_no_norm.ix[movie] = np.sum(fiv_nn_3712_corr[ind_slice]*ratings[ind_slice])/np.sum(fiv_nn_3712_corr[ind_slice])\n",
    "    \n",
    "    rat_norm = np.array([ mov_user_data[fiv_nn_3712[0]].ix[movie] - mov_user_data[fiv_nn_3712[0]].mean(), \n",
    "                          mov_user_data[fiv_nn_3712[1]].ix[movie] - mov_user_data[fiv_nn_3712[1]].mean(), \n",
    "                          mov_user_data[fiv_nn_3712[2]].ix[movie] - mov_user_data[fiv_nn_3712[2]].mean(),  \n",
    "                          mov_user_data[fiv_nn_3712[3]].ix[movie] - mov_user_data[fiv_nn_3712[3]].mean(),  \n",
    "                          mov_user_data[fiv_nn_3712[4]].ix[movie] - mov_user_data[fiv_nn_3712[4]].mean() ])\n",
    "    \n",
    "    pred_3712_wi_norm.ix[movie] = ( mov_user_data['3712'].mean() +  \n",
    "                                    np.sum(rat_norm[ind_slice]*fiv_nn_3712_corr[ind_slice])/np.sum(fiv_nn_3712_corr[ind_slice]) )"
   ]
  },
  {
   "cell_type": "markdown",
   "metadata": {},
   "source": [
    "Printing the top 5 movies for used 3712 based on the ratings from the 5 nearest neighbors with no normalization."
   ]
  },
  {
   "cell_type": "code",
   "execution_count": 14,
   "metadata": {
    "collapsed": false
   },
   "outputs": [
    {
     "data": {
      "text/plain": [
       "641: Requiem for a Dream (2000)    5.000000\n",
       "603: The Matrix (1999)             4.855924\n",
       "105: Back to the Future (1985)     4.739173\n",
       "107: Snatch (2000)                 4.651432\n",
       "155: The Dark Knight (2008)        4.622564\n",
       "dtype: float64"
      ]
     },
     "execution_count": 14,
     "metadata": {},
     "output_type": "execute_result"
    }
   ],
   "source": [
    "pred_3712_no_norm.sort_values(ascending=False)[0:5]"
   ]
  },
  {
   "cell_type": "markdown",
   "metadata": {},
   "source": [
    "Printing the top 5 movies for used 3712 based on the ratings from the 5 nearest neighbors with normalization."
   ]
  },
  {
   "cell_type": "code",
   "execution_count": 15,
   "metadata": {
    "collapsed": false
   },
   "outputs": [
    {
     "data": {
      "text/plain": [
       "641: Requiem for a Dream (2000)                      5.900000\n",
       "603: The Matrix (1999)                               5.545567\n",
       "105: Back to the Future (1985)                       5.500585\n",
       "155: The Dark Knight (2008)                          5.312207\n",
       "121: The Lord of the Rings: The Two Towers (2002)    5.306559\n",
       "dtype: float64"
      ]
     },
     "execution_count": 15,
     "metadata": {},
     "output_type": "execute_result"
    }
   ],
   "source": [
    "pred_3712_wi_norm.sort_values(ascending=False)[0:5]"
   ]
  },
  {
   "cell_type": "markdown",
   "metadata": {},
   "source": [
    "#### Predictions for User 3867"
   ]
  },
  {
   "cell_type": "markdown",
   "metadata": {},
   "source": [
    "Initializing empty Series to store movie predictions (without and with normalization) for user 3867 from 5 nearest neighbors."
   ]
  },
  {
   "cell_type": "code",
   "execution_count": 16,
   "metadata": {
    "collapsed": true
   },
   "outputs": [],
   "source": [
    "pred_3867_no_norm = pd.Series(index=mov_user_data.index)\n",
    "pred_3867_wi_norm = pd.Series(index=mov_user_data.index)"
   ]
  },
  {
   "cell_type": "markdown",
   "metadata": {},
   "source": [
    "Storing the labels of the 5 nearest neighbor users and the correlation coefficients between each of these 5 nearest neighbors and user 3867."
   ]
  },
  {
   "cell_type": "code",
   "execution_count": 17,
   "metadata": {
    "collapsed": true
   },
   "outputs": [],
   "source": [
    "fiv_nn_3867 = list(corr_df['3867'].sort_values(ascending=False)[1:6].index)\n",
    "fiv_nn_3867_corr = corr_df['3867'].sort_values(ascending=False)[1:6].values"
   ]
  },
  {
   "cell_type": "markdown",
   "metadata": {},
   "source": [
    "Using the ratings of the 5 nearest neighbors and the correlations with the 5 nearest neighbors to predict the rating of user 3867 for this movie."
   ]
  },
  {
   "cell_type": "code",
   "execution_count": 18,
   "metadata": {
    "collapsed": true
   },
   "outputs": [],
   "source": [
    "for movie in pred_3867_no_norm.index:\n",
    "    ratings = np.array([ mov_user_data[fiv_nn_3867[0]].ix[movie], mov_user_data[fiv_nn_3867[1]].ix[movie], \n",
    "                         mov_user_data[fiv_nn_3867[2]].ix[movie], mov_user_data[fiv_nn_3867[3]].ix[movie], \n",
    "                         mov_user_data[fiv_nn_3867[4]].ix[movie] ])\n",
    "    ind_slice = [i for i, rat_val in enumerate(ratings) if np.isnan(rat_val)==False]\n",
    "    pred_3867_no_norm.ix[movie] = np.sum(fiv_nn_3867_corr[ind_slice]*ratings[ind_slice])/np.sum(fiv_nn_3867_corr[ind_slice])\n",
    "    \n",
    "    rat_norm = np.array([ mov_user_data[fiv_nn_3867[0]].ix[movie] - mov_user_data[fiv_nn_3867[0]].mean(), \n",
    "                          mov_user_data[fiv_nn_3867[1]].ix[movie] - mov_user_data[fiv_nn_3867[1]].mean(), \n",
    "                          mov_user_data[fiv_nn_3867[2]].ix[movie] - mov_user_data[fiv_nn_3867[2]].mean(),  \n",
    "                          mov_user_data[fiv_nn_3867[3]].ix[movie] - mov_user_data[fiv_nn_3867[3]].mean(),  \n",
    "                          mov_user_data[fiv_nn_3867[4]].ix[movie] - mov_user_data[fiv_nn_3867[4]].mean() ])\n",
    "    \n",
    "    pred_3867_wi_norm.ix[movie] = ( mov_user_data['3867'].mean() +  \n",
    "                                    np.sum(rat_norm[ind_slice]*fiv_nn_3867_corr[ind_slice])/np.sum(fiv_nn_3867_corr[ind_slice]) )    "
   ]
  },
  {
   "cell_type": "markdown",
   "metadata": {},
   "source": [
    "Printing the top 5 movies for used 3867 based on the ratings from the 5 nearest neighbors with no normalization."
   ]
  },
  {
   "cell_type": "code",
   "execution_count": 19,
   "metadata": {
    "collapsed": false
   },
   "outputs": [
    {
     "data": {
      "text/plain": [
       "1891: Star Wars: Episode V - The Empire Strikes Back (1980)    4.760291\n",
       "155: The Dark Knight (2008)                                    4.551454\n",
       "122: The Lord of the Rings: The Return of the King (2003)      4.507637\n",
       "77: Memento (2000)                                             4.472487\n",
       "121: The Lord of the Rings: The Two Towers (2002)              4.400194\n",
       "dtype: float64"
      ]
     },
     "execution_count": 19,
     "metadata": {},
     "output_type": "execute_result"
    }
   ],
   "source": [
    "pred_3867_no_norm.sort_values(ascending=False)[0:5]"
   ]
  },
  {
   "cell_type": "markdown",
   "metadata": {},
   "source": [
    "Printing the top 5 movies for used 3867 based on the ratings from the 5 nearest neighbors with normalization."
   ]
  },
  {
   "cell_type": "code",
   "execution_count": 20,
   "metadata": {
    "collapsed": false
   },
   "outputs": [
    {
     "data": {
      "text/plain": [
       "1891: Star Wars: Episode V - The Empire Strikes Back (1980)    5.245509\n",
       "155: The Dark Knight (2008)                                    4.856770\n",
       "77: Memento (2000)                                             4.777803\n",
       "275: Fargo (1996)                                              4.771538\n",
       "807: Seven (a.k.a. Se7en) (1995)                               4.655569\n",
       "dtype: float64"
      ]
     },
     "execution_count": 20,
     "metadata": {},
     "output_type": "execute_result"
    }
   ],
   "source": [
    "pred_3867_wi_norm.sort_values(ascending=False)[0:5]"
   ]
  },
  {
   "cell_type": "markdown",
   "metadata": {},
   "source": [
    "#### Predictions for User 89"
   ]
  },
  {
   "cell_type": "markdown",
   "metadata": {},
   "source": [
    "Initializing empty Series to store movie predictions (without and with normalization) for user 89 from 5 nearest neighbors."
   ]
  },
  {
   "cell_type": "code",
   "execution_count": 21,
   "metadata": {
    "collapsed": true
   },
   "outputs": [],
   "source": [
    "pred_89_no_norm = pd.Series(index=mov_user_data.index)\n",
    "pred_89_wi_norm = pd.Series(index=mov_user_data.index)"
   ]
  },
  {
   "cell_type": "markdown",
   "metadata": {},
   "source": [
    "Storing the labels of the 5 nearest neighbor users and the correlation coefficients between each of these 5 nearest neighbors and user 89."
   ]
  },
  {
   "cell_type": "code",
   "execution_count": 22,
   "metadata": {
    "collapsed": false
   },
   "outputs": [],
   "source": [
    "fiv_nn_89 = list(corr_df['89'].sort_values(ascending=False)[1:6].index)\n",
    "fiv_nn_89_corr = corr_df['89'].sort_values(ascending=False)[1:6].values"
   ]
  },
  {
   "cell_type": "markdown",
   "metadata": {
    "collapsed": true
   },
   "source": [
    "Using the ratings of the 5 nearest neighbors and the correlations with the 5 nearest neighbors to predict the rating of user 89 for this movie."
   ]
  },
  {
   "cell_type": "code",
   "execution_count": 23,
   "metadata": {
    "collapsed": true
   },
   "outputs": [],
   "source": [
    "for movie in pred_89_no_norm.index:\n",
    "    ratings = np.array([ mov_user_data[fiv_nn_89[0]].ix[movie], mov_user_data[fiv_nn_89[1]].ix[movie], \n",
    "                         mov_user_data[fiv_nn_89[2]].ix[movie], mov_user_data[fiv_nn_89[3]].ix[movie], \n",
    "                         mov_user_data[fiv_nn_89[4]].ix[movie] ])\n",
    "    ind_slice = [i for i, rat_val in enumerate(ratings) if np.isnan(rat_val)==False]\n",
    "    pred_89_no_norm.ix[movie] = np.sum(fiv_nn_89_corr[ind_slice]*ratings[ind_slice])/np.sum(fiv_nn_89_corr[ind_slice])\n",
    "    \n",
    "    rat_norm = np.array([ mov_user_data[fiv_nn_89[0]].ix[movie] - mov_user_data[fiv_nn_89[0]].mean(), \n",
    "                          mov_user_data[fiv_nn_89[1]].ix[movie] - mov_user_data[fiv_nn_89[1]].mean(), \n",
    "                          mov_user_data[fiv_nn_89[2]].ix[movie] - mov_user_data[fiv_nn_89[2]].mean(),  \n",
    "                          mov_user_data[fiv_nn_89[3]].ix[movie] - mov_user_data[fiv_nn_89[3]].mean(),  \n",
    "                          mov_user_data[fiv_nn_89[4]].ix[movie] - mov_user_data[fiv_nn_89[4]].mean() ])\n",
    "    \n",
    "    pred_89_wi_norm.ix[movie] = ( mov_user_data['89'].mean() +  \n",
    "                                    np.sum(rat_norm[ind_slice]*fiv_nn_89_corr[ind_slice])/np.sum(fiv_nn_89_corr[ind_slice]) )      "
   ]
  },
  {
   "cell_type": "markdown",
   "metadata": {
    "collapsed": true
   },
   "source": [
    "Printing the top 5 movies for used 89 based on the ratings from the 5 nearest neighbors with no normalization."
   ]
  },
  {
   "cell_type": "code",
   "execution_count": 24,
   "metadata": {
    "collapsed": false
   },
   "outputs": [
    {
     "data": {
      "text/plain": [
       "238: The Godfather (1972)               4.894124\n",
       "278: The Shawshank Redemption (1994)    4.882194\n",
       "807: Seven (a.k.a. Se7en) (1995)        4.774093\n",
       "275: Fargo (1996)                       4.770944\n",
       "424: Schindler's List (1993)            4.729056\n",
       "dtype: float64"
      ]
     },
     "execution_count": 24,
     "metadata": {},
     "output_type": "execute_result"
    }
   ],
   "source": [
    "pred_89_no_norm.sort_values(ascending=False)[0:5]"
   ]
  },
  {
   "cell_type": "markdown",
   "metadata": {},
   "source": [
    "Printing the top 5 movies for used 89 based on the ratings from the 5 nearest neighbors with normalization."
   ]
  },
  {
   "cell_type": "code",
   "execution_count": 25,
   "metadata": {
    "collapsed": false
   },
   "outputs": [
    {
     "data": {
      "text/plain": [
       "238: The Godfather (1972)               5.322015\n",
       "278: The Shawshank Redemption (1994)    5.261424\n",
       "275: Fargo (1996)                       5.241111\n",
       "807: Seven (a.k.a. Se7en) (1995)        5.201984\n",
       "424: Schindler's List (1993)            5.199223\n",
       "dtype: float64"
      ]
     },
     "execution_count": 25,
     "metadata": {},
     "output_type": "execute_result"
    }
   ],
   "source": [
    "pred_89_wi_norm.sort_values(ascending=False)[0:5]"
   ]
  },
  {
   "cell_type": "code",
   "execution_count": null,
   "metadata": {
    "collapsed": true
   },
   "outputs": [],
   "source": []
  }
 ],
 "metadata": {
  "kernelspec": {
   "display_name": "Python 2",
   "language": "python",
   "name": "python2"
  },
  "language_info": {
   "codemirror_mode": {
    "name": "ipython",
    "version": 2
   },
   "file_extension": ".py",
   "mimetype": "text/x-python",
   "name": "python",
   "nbconvert_exporter": "python",
   "pygments_lexer": "ipython2",
   "version": "2.7.11"
  }
 },
 "nbformat": 4,
 "nbformat_minor": 0
}
