{
 "cells": [
  {
   "cell_type": "markdown",
   "metadata": {},
   "source": [
    "# Assignment 2: Content-Based Recommenders"
   ]
  },
  {
   "cell_type": "code",
   "execution_count": null,
   "metadata": {
    "collapsed": true
   },
   "outputs": [],
   "source": []
  },
  {
   "cell_type": "markdown",
   "metadata": {},
   "source": [
    "## Importing Libraries"
   ]
  },
  {
   "cell_type": "code",
   "execution_count": 35,
   "metadata": {
    "collapsed": false
   },
   "outputs": [],
   "source": [
    "import numpy as np\n",
    "import pandas as pd"
   ]
  },
  {
   "cell_type": "markdown",
   "metadata": {},
   "source": [
    "## Loading the Data"
   ]
  },
  {
   "cell_type": "code",
   "execution_count": 36,
   "metadata": {
    "collapsed": true
   },
   "outputs": [],
   "source": [
    "doc_data = pd.read_excel('Assign_2_pandas.xls')"
   ]
  },
  {
   "cell_type": "markdown",
   "metadata": {},
   "source": [
    "Printing the head of the data frame for the doc_data"
   ]
  },
  {
   "cell_type": "code",
   "execution_count": 37,
   "metadata": {
    "collapsed": false
   },
   "outputs": [
    {
     "data": {
      "text/html": [
       "<div>\n",
       "<table border=\"1\" class=\"dataframe\">\n",
       "  <thead>\n",
       "    <tr style=\"text-align: right;\">\n",
       "      <th></th>\n",
       "      <th>baseball</th>\n",
       "      <th>economics</th>\n",
       "      <th>politics</th>\n",
       "      <th>Europe</th>\n",
       "      <th>Asia</th>\n",
       "      <th>soccer</th>\n",
       "      <th>war</th>\n",
       "      <th>security</th>\n",
       "      <th>shopping</th>\n",
       "      <th>family</th>\n",
       "      <th>User 1</th>\n",
       "      <th>User 2</th>\n",
       "    </tr>\n",
       "  </thead>\n",
       "  <tbody>\n",
       "    <tr>\n",
       "      <th>doc1</th>\n",
       "      <td>1</td>\n",
       "      <td>0</td>\n",
       "      <td>1</td>\n",
       "      <td>0</td>\n",
       "      <td>1</td>\n",
       "      <td>1</td>\n",
       "      <td>0</td>\n",
       "      <td>0</td>\n",
       "      <td>0</td>\n",
       "      <td>1</td>\n",
       "      <td>1</td>\n",
       "      <td>-1</td>\n",
       "    </tr>\n",
       "    <tr>\n",
       "      <th>doc2</th>\n",
       "      <td>0</td>\n",
       "      <td>1</td>\n",
       "      <td>1</td>\n",
       "      <td>1</td>\n",
       "      <td>0</td>\n",
       "      <td>0</td>\n",
       "      <td>0</td>\n",
       "      <td>1</td>\n",
       "      <td>0</td>\n",
       "      <td>0</td>\n",
       "      <td>-1</td>\n",
       "      <td>1</td>\n",
       "    </tr>\n",
       "    <tr>\n",
       "      <th>doc3</th>\n",
       "      <td>0</td>\n",
       "      <td>0</td>\n",
       "      <td>0</td>\n",
       "      <td>1</td>\n",
       "      <td>1</td>\n",
       "      <td>1</td>\n",
       "      <td>0</td>\n",
       "      <td>0</td>\n",
       "      <td>0</td>\n",
       "      <td>0</td>\n",
       "      <td>NaN</td>\n",
       "      <td>NaN</td>\n",
       "    </tr>\n",
       "    <tr>\n",
       "      <th>doc4</th>\n",
       "      <td>0</td>\n",
       "      <td>0</td>\n",
       "      <td>1</td>\n",
       "      <td>1</td>\n",
       "      <td>0</td>\n",
       "      <td>0</td>\n",
       "      <td>1</td>\n",
       "      <td>1</td>\n",
       "      <td>0</td>\n",
       "      <td>0</td>\n",
       "      <td>NaN</td>\n",
       "      <td>1</td>\n",
       "    </tr>\n",
       "    <tr>\n",
       "      <th>doc5</th>\n",
       "      <td>0</td>\n",
       "      <td>1</td>\n",
       "      <td>0</td>\n",
       "      <td>0</td>\n",
       "      <td>0</td>\n",
       "      <td>0</td>\n",
       "      <td>0</td>\n",
       "      <td>0</td>\n",
       "      <td>1</td>\n",
       "      <td>1</td>\n",
       "      <td>NaN</td>\n",
       "      <td>NaN</td>\n",
       "    </tr>\n",
       "  </tbody>\n",
       "</table>\n",
       "</div>"
      ],
      "text/plain": [
       "      baseball  economics  politics  Europe  Asia  soccer  war  security  \\\n",
       "doc1         1          0         1       0     1       1    0         0   \n",
       "doc2         0          1         1       1     0       0    0         1   \n",
       "doc3         0          0         0       1     1       1    0         0   \n",
       "doc4         0          0         1       1     0       0    1         1   \n",
       "doc5         0          1         0       0     0       0    0         0   \n",
       "\n",
       "      shopping  family  User 1  User 2  \n",
       "doc1         0       1       1      -1  \n",
       "doc2         0       0      -1       1  \n",
       "doc3         0       0     NaN     NaN  \n",
       "doc4         0       0     NaN       1  \n",
       "doc5         1       1     NaN     NaN  "
      ]
     },
     "execution_count": 37,
     "metadata": {},
     "output_type": "execute_result"
    }
   ],
   "source": [
    "doc_data.head()"
   ]
  },
  {
   "cell_type": "markdown",
   "metadata": {},
   "source": [
    "## Part 1: Build and use a very basic profile"
   ]
  },
  {
   "cell_type": "markdown",
   "metadata": {},
   "source": [
    "Putting the 10 attributes of the documents in a list, and then converting the values in the list from unicode to strings."
   ]
  },
  {
   "cell_type": "code",
   "execution_count": 38,
   "metadata": {
    "collapsed": false
   },
   "outputs": [
    {
     "name": "stdout",
     "output_type": "stream",
     "text": [
      "['baseball', 'economics', 'politics', 'Europe', 'Asia', 'soccer', 'war', 'security', 'shopping', 'family']\n"
     ]
    }
   ],
   "source": [
    "attr_vals = list(doc_data.columns[0:10])\n",
    "attr_vals = [x.encode('UTF8') for x in attr_vals]\n",
    "print attr_vals"
   ]
  },
  {
   "cell_type": "markdown",
   "metadata": {},
   "source": [
    "Declaring empty arrays of size 10 (10 attributes) to fill up the profile for each user."
   ]
  },
  {
   "cell_type": "code",
   "execution_count": 39,
   "metadata": {
    "collapsed": true
   },
   "outputs": [],
   "source": [
    "user_1_prof = np.array(len(attr_vals)*[-999] , dtype = np.double)\n",
    "user_2_prof = np.array(len(attr_vals)*[-999] , dtype = np.double)"
   ]
  },
  {
   "cell_type": "markdown",
   "metadata": {},
   "source": [
    "Filling up the profile of each user for each atribute. "
   ]
  },
  {
   "cell_type": "code",
   "execution_count": 40,
   "metadata": {
    "collapsed": false
   },
   "outputs": [],
   "source": [
    "for i, attr in enumerate(attr_vals):\n",
    "    user_1_prof[i] = np.sum(doc_data[attr]*doc_data['User 1'])\n",
    "    user_2_prof[i] = np.sum(doc_data[attr]*doc_data['User 2'])"
   ]
  },
  {
   "cell_type": "code",
   "execution_count": 41,
   "metadata": {
    "collapsed": false
   },
   "outputs": [
    {
     "data": {
      "text/plain": [
       "array([ 3., -2., -1.,  0.,  0.,  2., -1., -1.,  1.,  0.])"
      ]
     },
     "execution_count": 41,
     "metadata": {},
     "output_type": "execute_result"
    }
   ],
   "source": [
    "user_1_prof"
   ]
  },
  {
   "cell_type": "markdown",
   "metadata": {},
   "source": [
    "Checking user_1 and user_2 profiles for consistency with values given in the assignment."
   ]
  },
  {
   "cell_type": "code",
   "execution_count": 42,
   "metadata": {
    "collapsed": false
   },
   "outputs": [
    {
     "name": "stdout",
     "output_type": "stream",
     "text": [
      "True\n",
      "True\n"
     ]
    }
   ],
   "source": [
    "print user_1_prof[attr_vals.index('family')]==0\n",
    "print user_2_prof[attr_vals.index('Europe')]==3"
   ]
  },
  {
   "cell_type": "markdown",
   "metadata": {},
   "source": [
    "Putting the 20 documents in a list, and then converting the values in the list from unicode to strings."
   ]
  },
  {
   "cell_type": "code",
   "execution_count": 43,
   "metadata": {
    "collapsed": false
   },
   "outputs": [],
   "source": [
    "doc_vals = list(doc_data.index)\n",
    "doc_vals = [x.encode('UTF8') for x in doc_vals]"
   ]
  },
  {
   "cell_type": "markdown",
   "metadata": {},
   "source": [
    "Declaring empty arrays to store the scores for each user for each doc."
   ]
  },
  {
   "cell_type": "code",
   "execution_count": 44,
   "metadata": {
    "collapsed": false
   },
   "outputs": [],
   "source": [
    "user_1_doc_scores = len(doc_vals)*[-999]\n",
    "user_2_doc_scores = len(doc_vals)*[-999]"
   ]
  },
  {
   "cell_type": "markdown",
   "metadata": {},
   "source": [
    "Performing a dot product between each doc and the profile for each user. This will give the predicted score for each document."
   ]
  },
  {
   "cell_type": "code",
   "execution_count": 45,
   "metadata": {
    "collapsed": false
   },
   "outputs": [],
   "source": [
    "for i, doc in enumerate(doc_vals):\n",
    "    \n",
    "    # Calculating the dot product for doc and each user\n",
    "    doc_score_u1 = np.sum(doc_data.ix[doc].values[0:10]*user_1_prof)\n",
    "    doc_score_u2 = np.sum(doc_data.ix[doc].values[0:10]*user_2_prof)\n",
    "    \n",
    "    # Putting the score for each doc and doc name in tuples\n",
    "    user_1_doc_scores[i] = (doc_score_u1, doc)\n",
    "    user_2_doc_scores[i] = (doc_score_u2, doc)"
   ]
  },
  {
   "cell_type": "markdown",
   "metadata": {},
   "source": [
    "Printing the score and the doc that user_1 likes the most"
   ]
  },
  {
   "cell_type": "code",
   "execution_count": 46,
   "metadata": {
    "collapsed": false
   },
   "outputs": [
    {
     "name": "stdout",
     "output_type": "stream",
     "text": [
      "(6.0, 'doc16')\n"
     ]
    }
   ],
   "source": [
    "print sorted(user_1_doc_scores)[-1]"
   ]
  },
  {
   "cell_type": "markdown",
   "metadata": {},
   "source": [
    "How many documents does the model predict user_2 will dislike (prediction score that is negative)?"
   ]
  },
  {
   "cell_type": "code",
   "execution_count": 47,
   "metadata": {
    "collapsed": false
   },
   "outputs": [
    {
     "name": "stdout",
     "output_type": "stream",
     "text": [
      "4\n"
     ]
    }
   ],
   "source": [
    "print sum([1 for doc_tup in user_2_doc_scores if doc_tup[0]<0.0])"
   ]
  },
  {
   "cell_type": "markdown",
   "metadata": {},
   "source": [
    "## Part 2"
   ]
  },
  {
   "cell_type": "markdown",
   "metadata": {
    "collapsed": true
   },
   "source": [
    "Bulding a normalized dataframe"
   ]
  },
  {
   "cell_type": "code",
   "execution_count": 48,
   "metadata": {
    "collapsed": false
   },
   "outputs": [],
   "source": [
    "col_names = list(doc_data)\n",
    "col_names = [x.encode('UTF8') for x in col_names]"
   ]
  },
  {
   "cell_type": "markdown",
   "metadata": {},
   "source": [
    "Defining empty dataframe with the same column names as doc_data dataframe"
   ]
  },
  {
   "cell_type": "code",
   "execution_count": 49,
   "metadata": {
    "collapsed": false
   },
   "outputs": [],
   "source": [
    "norm_doc_data = pd.DataFrame(index=doc_vals, columns=col_names)"
   ]
  },
  {
   "cell_type": "markdown",
   "metadata": {},
   "source": [
    "Filling the values of the norm_doc_data dataframe. The values of the attributes are normalized and then then the columns User 1 and User 2 are added."
   ]
  },
  {
   "cell_type": "code",
   "execution_count": 50,
   "metadata": {
    "collapsed": true
   },
   "outputs": [],
   "source": [
    "for doc in doc_vals:\n",
    "    \n",
    "    # First, adding values of attributes to a np array\n",
    "    doc_list = np.array(list(doc_data[attr_vals].ix[doc]) , dtype=np.double)\n",
    "    # Normalizing the attributes\n",
    "    doc_list = doc_list/np.sqrt(np.sum(doc_list))\n",
    "    # Adding the User1 and User 2 scores to the doc list\n",
    "    doc_list = np.append(doc_list, np.array([doc_data['User 1'].ix[doc], doc_data['User 2'].ix[doc]], dtype=np.double))\n",
    "    # Adding doc list array to the norm_doc_data dataframe\n",
    "    norm_doc_data.ix[doc] = doc_list"
   ]
  },
  {
   "cell_type": "markdown",
   "metadata": {},
   "source": [
    "Looking at the head of the norm_doc_data dataframe"
   ]
  },
  {
   "cell_type": "code",
   "execution_count": 51,
   "metadata": {
    "collapsed": false
   },
   "outputs": [
    {
     "data": {
      "text/html": [
       "<div>\n",
       "<table border=\"1\" class=\"dataframe\">\n",
       "  <thead>\n",
       "    <tr style=\"text-align: right;\">\n",
       "      <th></th>\n",
       "      <th>baseball</th>\n",
       "      <th>economics</th>\n",
       "      <th>politics</th>\n",
       "      <th>Europe</th>\n",
       "      <th>Asia</th>\n",
       "      <th>soccer</th>\n",
       "      <th>war</th>\n",
       "      <th>security</th>\n",
       "      <th>shopping</th>\n",
       "      <th>family</th>\n",
       "      <th>User 1</th>\n",
       "      <th>User 2</th>\n",
       "    </tr>\n",
       "  </thead>\n",
       "  <tbody>\n",
       "    <tr>\n",
       "      <th>doc1</th>\n",
       "      <td>0.447214</td>\n",
       "      <td>0</td>\n",
       "      <td>0.447214</td>\n",
       "      <td>0</td>\n",
       "      <td>0.447214</td>\n",
       "      <td>0.447214</td>\n",
       "      <td>0</td>\n",
       "      <td>0</td>\n",
       "      <td>0</td>\n",
       "      <td>0.447214</td>\n",
       "      <td>1</td>\n",
       "      <td>-1</td>\n",
       "    </tr>\n",
       "    <tr>\n",
       "      <th>doc2</th>\n",
       "      <td>0</td>\n",
       "      <td>0.5</td>\n",
       "      <td>0.5</td>\n",
       "      <td>0.5</td>\n",
       "      <td>0</td>\n",
       "      <td>0</td>\n",
       "      <td>0</td>\n",
       "      <td>0.5</td>\n",
       "      <td>0</td>\n",
       "      <td>0</td>\n",
       "      <td>-1</td>\n",
       "      <td>1</td>\n",
       "    </tr>\n",
       "    <tr>\n",
       "      <th>doc3</th>\n",
       "      <td>0</td>\n",
       "      <td>0</td>\n",
       "      <td>0</td>\n",
       "      <td>0.57735</td>\n",
       "      <td>0.57735</td>\n",
       "      <td>0.57735</td>\n",
       "      <td>0</td>\n",
       "      <td>0</td>\n",
       "      <td>0</td>\n",
       "      <td>0</td>\n",
       "      <td>NaN</td>\n",
       "      <td>NaN</td>\n",
       "    </tr>\n",
       "    <tr>\n",
       "      <th>doc4</th>\n",
       "      <td>0</td>\n",
       "      <td>0</td>\n",
       "      <td>0.5</td>\n",
       "      <td>0.5</td>\n",
       "      <td>0</td>\n",
       "      <td>0</td>\n",
       "      <td>0.5</td>\n",
       "      <td>0.5</td>\n",
       "      <td>0</td>\n",
       "      <td>0</td>\n",
       "      <td>NaN</td>\n",
       "      <td>1</td>\n",
       "    </tr>\n",
       "    <tr>\n",
       "      <th>doc5</th>\n",
       "      <td>0</td>\n",
       "      <td>0.57735</td>\n",
       "      <td>0</td>\n",
       "      <td>0</td>\n",
       "      <td>0</td>\n",
       "      <td>0</td>\n",
       "      <td>0</td>\n",
       "      <td>0</td>\n",
       "      <td>0.57735</td>\n",
       "      <td>0.57735</td>\n",
       "      <td>NaN</td>\n",
       "      <td>NaN</td>\n",
       "    </tr>\n",
       "  </tbody>\n",
       "</table>\n",
       "</div>"
      ],
      "text/plain": [
       "      baseball economics  politics   Europe      Asia    soccer  war security  \\\n",
       "doc1  0.447214         0  0.447214        0  0.447214  0.447214    0        0   \n",
       "doc2         0       0.5       0.5      0.5         0         0    0      0.5   \n",
       "doc3         0         0         0  0.57735   0.57735   0.57735    0        0   \n",
       "doc4         0         0       0.5      0.5         0         0  0.5      0.5   \n",
       "doc5         0   0.57735         0        0         0         0    0        0   \n",
       "\n",
       "     shopping    family User 1 User 2  \n",
       "doc1        0  0.447214      1     -1  \n",
       "doc2        0         0     -1      1  \n",
       "doc3        0         0    NaN    NaN  \n",
       "doc4        0         0    NaN      1  \n",
       "doc5  0.57735   0.57735    NaN    NaN  "
      ]
     },
     "execution_count": 51,
     "metadata": {},
     "output_type": "execute_result"
    }
   ],
   "source": [
    "norm_doc_data.head()"
   ]
  },
  {
   "cell_type": "markdown",
   "metadata": {
    "collapsed": true
   },
   "source": [
    "Filling up the profile of each user for each atribute, but now with norm_doc_data instead of doc_data"
   ]
  },
  {
   "cell_type": "code",
   "execution_count": 52,
   "metadata": {
    "collapsed": false
   },
   "outputs": [],
   "source": [
    "for i, attr in enumerate(attr_vals):\n",
    "    user_1_prof[i] = np.sum(norm_doc_data[attr]*norm_doc_data['User 1'])\n",
    "    user_2_prof[i] = np.sum(norm_doc_data[attr]*norm_doc_data['User 2'])"
   ]
  },
  {
   "cell_type": "markdown",
   "metadata": {},
   "source": [
    "Performing a dot product between each doc and the profile for each user. This will give the predicted score for each document. Now doing this with norm_doc_data."
   ]
  },
  {
   "cell_type": "code",
   "execution_count": 53,
   "metadata": {
    "collapsed": true
   },
   "outputs": [],
   "source": [
    "for i, doc in enumerate(doc_vals):\n",
    "    \n",
    "    # Calculating the dot product for doc and each user\n",
    "    doc_score_u1 = np.sum(norm_doc_data.ix[doc].values[0:10]*user_1_prof)\n",
    "    doc_score_u2 = np.sum(norm_doc_data.ix[doc].values[0:10]*user_2_prof)\n",
    "    \n",
    "    # Putting the score for each doc and doc name in tuples\n",
    "    user_1_doc_scores[i] = (doc_score_u1, doc)\n",
    "    user_2_doc_scores[i] = (doc_score_u2, doc)"
   ]
  },
  {
   "cell_type": "markdown",
   "metadata": {},
   "source": [
    "Checking user_1, doc1 and user_2, doc7, doc19 prediction for consistency with values given in the assignment."
   ]
  },
  {
   "cell_type": "code",
   "execution_count": 54,
   "metadata": {
    "collapsed": false
   },
   "outputs": [
    {
     "name": "stdout",
     "output_type": "stream",
     "text": [
      "True\n",
      "True\n",
      "True\n"
     ]
    }
   ],
   "source": [
    "print abs(user_1_doc_scores[0][0] - 1.0090) < 1.0e3\n",
    "print abs(user_2_doc_scores[6][0] - 0.7444) < 1.0e3\n",
    "print abs(user_2_doc_scores[18][0] - 0.4834) < 1.0e3"
   ]
  },
  {
   "cell_type": "markdown",
   "metadata": {},
   "source": [
    "For User 1, what is the second most liked doc now? What is the prediction score for this doc?"
   ]
  },
  {
   "cell_type": "code",
   "execution_count": 55,
   "metadata": {
    "collapsed": false
   },
   "outputs": [
    {
     "name": "stdout",
     "output_type": "stream",
     "text": [
      "(1.370922665887427, 'doc6')\n"
     ]
    }
   ],
   "source": [
    "print sorted(user_1_doc_scores)[-2]"
   ]
  },
  {
   "cell_type": "markdown",
   "metadata": {},
   "source": [
    "## Part 3"
   ]
  },
  {
   "cell_type": "markdown",
   "metadata": {},
   "source": [
    "Now, we want to add a inverse document frequency to the norm_doc_data dataframe. First, we compute the document frequency below."
   ]
  },
  {
   "cell_type": "code",
   "execution_count": 56,
   "metadata": {
    "collapsed": false
   },
   "outputs": [],
   "source": [
    "doc_freq = np.array( list(doc_data[attr_vals].sum()), dtype = np.double )"
   ]
  },
  {
   "cell_type": "markdown",
   "metadata": {
    "collapsed": true
   },
   "source": [
    "Computing the inverse doc frequency."
   ]
  },
  {
   "cell_type": "code",
   "execution_count": 57,
   "metadata": {
    "collapsed": false
   },
   "outputs": [],
   "source": [
    "iv_doc_freq = 1.0/doc_freq"
   ]
  },
  {
   "cell_type": "markdown",
   "metadata": {},
   "source": [
    "Adding the dot product of the inverse document frequency to the user_1 and user_2 doc scores."
   ]
  },
  {
   "cell_type": "code",
   "execution_count": 58,
   "metadata": {
    "collapsed": false
   },
   "outputs": [],
   "source": [
    "for i, doc in enumerate(doc_vals):\n",
    "    \n",
    "    # Calculating the dot product for doc and each user\n",
    "    doc_score_u1 = np.sum(norm_doc_data.ix[doc].values[0:10]*user_1_prof*iv_doc_freq)\n",
    "    doc_score_u2 = np.sum(norm_doc_data.ix[doc].values[0:10]*user_2_prof*iv_doc_freq)\n",
    "    \n",
    "    # Putting the score for each doc and doc name in tuples\n",
    "    user_1_doc_scores[i] = (doc_score_u1, doc)\n",
    "    user_2_doc_scores[i] = (doc_score_u2, doc)"
   ]
  },
  {
   "cell_type": "markdown",
   "metadata": {
    "collapsed": true
   },
   "source": [
    "Checking user_1, doc1 prediction for consistency with value given in the assignment."
   ]
  },
  {
   "cell_type": "code",
   "execution_count": 59,
   "metadata": {
    "collapsed": false
   },
   "outputs": [
    {
     "name": "stdout",
     "output_type": "stream",
     "text": [
      "True\n"
     ]
    }
   ],
   "source": [
    "print abs(user_1_doc_scores[0][0] - 0.2476) < 1.0e3"
   ]
  },
  {
   "cell_type": "markdown",
   "metadata": {
    "collapsed": true
   },
   "source": [
    "Compare doc1 and doc9 for user1. What’s user1’s prediction for doc9 in the new IDF weighted model?"
   ]
  },
  {
   "cell_type": "code",
   "execution_count": 60,
   "metadata": {
    "collapsed": false
   },
   "outputs": [
    {
     "name": "stdout",
     "output_type": "stream",
     "text": [
      "(0.2476124657905287, 'doc1')\n",
      "(0.1790671937654306, 'doc9')\n"
     ]
    }
   ],
   "source": [
    "print user_1_doc_scores[0]\n",
    "print user_1_doc_scores[8]"
   ]
  },
  {
   "cell_type": "markdown",
   "metadata": {},
   "source": [
    "Look at doc6 for user_2. It was moderately positive before and now is slightly negative."
   ]
  },
  {
   "cell_type": "code",
   "execution_count": 61,
   "metadata": {
    "collapsed": false
   },
   "outputs": [
    {
     "name": "stdout",
     "output_type": "stream",
     "text": [
      "(-0.08469536214019151, 'doc6')\n"
     ]
    }
   ],
   "source": [
    "print user_2_doc_scores[5]"
   ]
  },
  {
   "cell_type": "code",
   "execution_count": null,
   "metadata": {
    "collapsed": true
   },
   "outputs": [],
   "source": []
  }
 ],
 "metadata": {
  "kernelspec": {
   "display_name": "Python 2",
   "language": "python",
   "name": "python2"
  },
  "language_info": {
   "codemirror_mode": {
    "name": "ipython",
    "version": 2
   },
   "file_extension": ".py",
   "mimetype": "text/x-python",
   "name": "python",
   "nbconvert_exporter": "python",
   "pygments_lexer": "ipython2",
   "version": "2.7.11"
  }
 },
 "nbformat": 4,
 "nbformat_minor": 0
}
