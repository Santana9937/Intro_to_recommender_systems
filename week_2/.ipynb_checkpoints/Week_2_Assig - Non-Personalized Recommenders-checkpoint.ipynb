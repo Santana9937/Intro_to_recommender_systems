{
 "cells": [
  {
   "cell_type": "markdown",
   "metadata": {},
   "source": [
    "# Non-Personalized Recommenders Assignment"
   ]
  },
  {
   "cell_type": "markdown",
   "metadata": {},
   "source": [
    "## Overview\n",
    "\n",
    "This assignment will explore non-personalized recommendations. You will be given a 20x20 matrix where columns represent movies, rows represent users, and each cell represents a user-movie rating.\n",
    "\n",
    "## Deliverables\n",
    "\n",
    "There are 4 deliverables for this assignment. Each deliverable represents a different analysis of the data provided to you. For each deliverable, you will submit a list of the top 5 movies as ranked by a particular metric. The 4 metrics are:\n",
    "\n",
    "1. Mean Rating: Calculate the mean rating for each movie, order with the highest rating listed first, and submit the top 5.\n",
    "2. % of ratings 4+: Calculate the percentage of ratings for each movie that are 4 or higher. Order with the highest percentage first, and submit the top 5.\n",
    "3. Rating Count: Count the number of ratings for each movie, order with the most number of ratings first, and submit the top 5.\n",
    "4. Top 5 Star Wars: Calculate movies that most often occur with Star Wars: Episode IV - A New Hope (1977) using the (x+y)/x method described in class. In other words, for each movie, calculate the percentage of Star Wars raters who also rated that movie. Order with the highest percentage first, and submit the top 5."
   ]
  },
  {
   "cell_type": "markdown",
   "metadata": {},
   "source": [
    "## Importing Libraries"
   ]
  },
  {
   "cell_type": "code",
   "execution_count": 114,
   "metadata": {
    "collapsed": false
   },
   "outputs": [],
   "source": [
    "import numpy as np\n",
    "import pandas as pd\n",
    "import matplotlib as mpl\n",
    "import matplotlib.pyplot as plt\n",
    "import seaborn as sns\n",
    "sns.set_style('darkgrid')\n",
    "%matplotlib inline"
   ]
  },
  {
   "cell_type": "markdown",
   "metadata": {},
   "source": [
    "## Loading the Data"
   ]
  },
  {
   "cell_type": "code",
   "execution_count": 115,
   "metadata": {
    "collapsed": false
   },
   "outputs": [],
   "source": [
    "# Loading the data into a Pandas dataframe\n",
    "movie_data = pd.read_csv('A1Ratings.csv')"
   ]
  },
  {
   "cell_type": "code",
   "execution_count": 116,
   "metadata": {
    "collapsed": false
   },
   "outputs": [
    {
     "data": {
      "text/html": [
       "<div>\n",
       "<table border=\"1\" class=\"dataframe\">\n",
       "  <thead>\n",
       "    <tr style=\"text-align: right;\">\n",
       "      <th></th>\n",
       "      <th>User</th>\n",
       "      <th>260: Star Wars: Episode IV - A New Hope (1977)</th>\n",
       "      <th>1210: Star Wars: Episode VI - Return of the Jedi (1983)</th>\n",
       "      <th>356: Forrest Gump (1994)</th>\n",
       "      <th>318: Shawshank Redemption, The (1994)</th>\n",
       "      <th>593: Silence of the Lambs, The (1991)</th>\n",
       "      <th>3578: Gladiator (2000)</th>\n",
       "      <th>1: Toy Story (1995)</th>\n",
       "      <th>2028: Saving Private Ryan (1998)</th>\n",
       "      <th>296: Pulp Fiction (1994)</th>\n",
       "      <th>...</th>\n",
       "      <th>2396: Shakespeare in Love (1998)</th>\n",
       "      <th>2916: Total Recall (1990)</th>\n",
       "      <th>780: Independence Day (ID4) (1996)</th>\n",
       "      <th>541: Blade Runner (1982)</th>\n",
       "      <th>1265: Groundhog Day (1993)</th>\n",
       "      <th>2571: Matrix, The (1999)</th>\n",
       "      <th>527: Schindler's List (1993)</th>\n",
       "      <th>2762: Sixth Sense, The (1999)</th>\n",
       "      <th>1198: Raiders of the Lost Ark (1981)</th>\n",
       "      <th>34: Babe (1995)</th>\n",
       "    </tr>\n",
       "  </thead>\n",
       "  <tbody>\n",
       "    <tr>\n",
       "      <th>0</th>\n",
       "      <td>755</td>\n",
       "      <td>1</td>\n",
       "      <td>5</td>\n",
       "      <td>2</td>\n",
       "      <td>NaN</td>\n",
       "      <td>4</td>\n",
       "      <td>4</td>\n",
       "      <td>2</td>\n",
       "      <td>2</td>\n",
       "      <td>NaN</td>\n",
       "      <td>...</td>\n",
       "      <td>2</td>\n",
       "      <td>NaN</td>\n",
       "      <td>5</td>\n",
       "      <td>2</td>\n",
       "      <td>NaN</td>\n",
       "      <td>4</td>\n",
       "      <td>2</td>\n",
       "      <td>5</td>\n",
       "      <td>NaN</td>\n",
       "      <td>NaN</td>\n",
       "    </tr>\n",
       "    <tr>\n",
       "      <th>1</th>\n",
       "      <td>5277</td>\n",
       "      <td>5</td>\n",
       "      <td>3</td>\n",
       "      <td>NaN</td>\n",
       "      <td>2</td>\n",
       "      <td>4</td>\n",
       "      <td>2</td>\n",
       "      <td>1</td>\n",
       "      <td>NaN</td>\n",
       "      <td>NaN</td>\n",
       "      <td>...</td>\n",
       "      <td>3</td>\n",
       "      <td>2</td>\n",
       "      <td>2</td>\n",
       "      <td>NaN</td>\n",
       "      <td>2</td>\n",
       "      <td>NaN</td>\n",
       "      <td>5</td>\n",
       "      <td>1</td>\n",
       "      <td>3</td>\n",
       "      <td>NaN</td>\n",
       "    </tr>\n",
       "    <tr>\n",
       "      <th>2</th>\n",
       "      <td>1577</td>\n",
       "      <td>NaN</td>\n",
       "      <td>NaN</td>\n",
       "      <td>NaN</td>\n",
       "      <td>5</td>\n",
       "      <td>2</td>\n",
       "      <td>NaN</td>\n",
       "      <td>4</td>\n",
       "      <td>NaN</td>\n",
       "      <td>NaN</td>\n",
       "      <td>...</td>\n",
       "      <td>NaN</td>\n",
       "      <td>1</td>\n",
       "      <td>4</td>\n",
       "      <td>4</td>\n",
       "      <td>1</td>\n",
       "      <td>1</td>\n",
       "      <td>2</td>\n",
       "      <td>3</td>\n",
       "      <td>1</td>\n",
       "      <td>3</td>\n",
       "    </tr>\n",
       "    <tr>\n",
       "      <th>3</th>\n",
       "      <td>4388</td>\n",
       "      <td>NaN</td>\n",
       "      <td>3</td>\n",
       "      <td>NaN</td>\n",
       "      <td>NaN</td>\n",
       "      <td>NaN</td>\n",
       "      <td>1</td>\n",
       "      <td>2</td>\n",
       "      <td>3</td>\n",
       "      <td>4</td>\n",
       "      <td>...</td>\n",
       "      <td>NaN</td>\n",
       "      <td>4</td>\n",
       "      <td>1</td>\n",
       "      <td>3</td>\n",
       "      <td>5</td>\n",
       "      <td>NaN</td>\n",
       "      <td>5</td>\n",
       "      <td>1</td>\n",
       "      <td>1</td>\n",
       "      <td>2</td>\n",
       "    </tr>\n",
       "    <tr>\n",
       "      <th>4</th>\n",
       "      <td>1202</td>\n",
       "      <td>4</td>\n",
       "      <td>3</td>\n",
       "      <td>4</td>\n",
       "      <td>1</td>\n",
       "      <td>4</td>\n",
       "      <td>1</td>\n",
       "      <td>NaN</td>\n",
       "      <td>4</td>\n",
       "      <td>NaN</td>\n",
       "      <td>...</td>\n",
       "      <td>5</td>\n",
       "      <td>1</td>\n",
       "      <td>NaN</td>\n",
       "      <td>4</td>\n",
       "      <td>NaN</td>\n",
       "      <td>3</td>\n",
       "      <td>5</td>\n",
       "      <td>5</td>\n",
       "      <td>NaN</td>\n",
       "      <td>NaN</td>\n",
       "    </tr>\n",
       "  </tbody>\n",
       "</table>\n",
       "<p>5 rows × 21 columns</p>\n",
       "</div>"
      ],
      "text/plain": [
       "   User  260: Star Wars: Episode IV - A New Hope (1977)  \\\n",
       "0   755                                               1   \n",
       "1  5277                                               5   \n",
       "2  1577                                             NaN   \n",
       "3  4388                                             NaN   \n",
       "4  1202                                               4   \n",
       "\n",
       "   1210: Star Wars: Episode VI - Return of the Jedi (1983)  \\\n",
       "0                                                  5         \n",
       "1                                                  3         \n",
       "2                                                NaN         \n",
       "3                                                  3         \n",
       "4                                                  3         \n",
       "\n",
       "   356: Forrest Gump (1994)  318: Shawshank Redemption, The (1994)  \\\n",
       "0                         2                                    NaN   \n",
       "1                       NaN                                      2   \n",
       "2                       NaN                                      5   \n",
       "3                       NaN                                    NaN   \n",
       "4                         4                                      1   \n",
       "\n",
       "   593: Silence of the Lambs, The (1991)  3578: Gladiator (2000)  \\\n",
       "0                                      4                       4   \n",
       "1                                      4                       2   \n",
       "2                                      2                     NaN   \n",
       "3                                    NaN                       1   \n",
       "4                                      4                       1   \n",
       "\n",
       "   1: Toy Story (1995)  2028: Saving Private Ryan (1998)  \\\n",
       "0                    2                                 2   \n",
       "1                    1                               NaN   \n",
       "2                    4                               NaN   \n",
       "3                    2                                 3   \n",
       "4                  NaN                                 4   \n",
       "\n",
       "   296: Pulp Fiction (1994)       ...         \\\n",
       "0                       NaN       ...          \n",
       "1                       NaN       ...          \n",
       "2                       NaN       ...          \n",
       "3                         4       ...          \n",
       "4                       NaN       ...          \n",
       "\n",
       "   2396: Shakespeare in Love (1998)  2916: Total Recall (1990)  \\\n",
       "0                                 2                        NaN   \n",
       "1                                 3                          2   \n",
       "2                               NaN                          1   \n",
       "3                               NaN                          4   \n",
       "4                                 5                          1   \n",
       "\n",
       "   780: Independence Day (ID4) (1996)  541: Blade Runner (1982)  \\\n",
       "0                                   5                         2   \n",
       "1                                   2                       NaN   \n",
       "2                                   4                         4   \n",
       "3                                   1                         3   \n",
       "4                                 NaN                         4   \n",
       "\n",
       "   1265: Groundhog Day (1993)  2571: Matrix, The (1999)  \\\n",
       "0                         NaN                         4   \n",
       "1                           2                       NaN   \n",
       "2                           1                         1   \n",
       "3                           5                       NaN   \n",
       "4                         NaN                         3   \n",
       "\n",
       "   527: Schindler's List (1993)  2762: Sixth Sense, The (1999)  \\\n",
       "0                             2                              5   \n",
       "1                             5                              1   \n",
       "2                             2                              3   \n",
       "3                             5                              1   \n",
       "4                             5                              5   \n",
       "\n",
       "   1198: Raiders of the Lost Ark (1981)  34: Babe (1995)  \n",
       "0                                   NaN              NaN  \n",
       "1                                     3              NaN  \n",
       "2                                     1                3  \n",
       "3                                     1                2  \n",
       "4                                   NaN              NaN  \n",
       "\n",
       "[5 rows x 21 columns]"
      ]
     },
     "execution_count": 116,
     "metadata": {},
     "output_type": "execute_result"
    }
   ],
   "source": [
    "# Looking at the first 5 rows of the dataframe\n",
    "movie_data.head()"
   ]
  },
  {
   "cell_type": "code",
   "execution_count": 117,
   "metadata": {
    "collapsed": false
   },
   "outputs": [
    {
     "data": {
      "text/plain": [
       "Index([u'User', u'260: Star Wars: Episode IV - A New Hope (1977)',\n",
       "       u'1210: Star Wars: Episode VI - Return of the Jedi (1983)',\n",
       "       u'356: Forrest Gump (1994)', u'318: Shawshank Redemption, The (1994)',\n",
       "       u'593: Silence of the Lambs, The (1991)', u'3578: Gladiator (2000)',\n",
       "       u'1: Toy Story (1995)', u'2028: Saving Private Ryan (1998)',\n",
       "       u'296: Pulp Fiction (1994)', u'1259: Stand by Me (1986)',\n",
       "       u'2396: Shakespeare in Love (1998)', u'2916: Total Recall (1990)',\n",
       "       u'780: Independence Day (ID4) (1996)', u'541: Blade Runner (1982)',\n",
       "       u'1265: Groundhog Day (1993)', u'2571: Matrix, The (1999)',\n",
       "       u'527: Schindler's List (1993)', u'2762: Sixth Sense, The (1999)',\n",
       "       u'1198: Raiders of the Lost Ark (1981)', u'34: Babe (1995)'],\n",
       "      dtype='object')"
      ]
     },
     "execution_count": 117,
     "metadata": {},
     "output_type": "execute_result"
    }
   ],
   "source": [
    "#printing the column names of the dataframe\n",
    "movie_data.columns"
   ]
  },
  {
   "cell_type": "code",
   "execution_count": 118,
   "metadata": {
    "collapsed": false
   },
   "outputs": [
    {
     "data": {
      "text/html": [
       "<div>\n",
       "<table border=\"1\" class=\"dataframe\">\n",
       "  <thead>\n",
       "    <tr style=\"text-align: right;\">\n",
       "      <th></th>\n",
       "      <th>User</th>\n",
       "      <th>260: Star Wars: Episode IV - A New Hope (1977)</th>\n",
       "      <th>1210: Star Wars: Episode VI - Return of the Jedi (1983)</th>\n",
       "      <th>356: Forrest Gump (1994)</th>\n",
       "      <th>318: Shawshank Redemption, The (1994)</th>\n",
       "      <th>593: Silence of the Lambs, The (1991)</th>\n",
       "      <th>3578: Gladiator (2000)</th>\n",
       "      <th>1: Toy Story (1995)</th>\n",
       "      <th>2028: Saving Private Ryan (1998)</th>\n",
       "      <th>296: Pulp Fiction (1994)</th>\n",
       "      <th>...</th>\n",
       "      <th>2396: Shakespeare in Love (1998)</th>\n",
       "      <th>2916: Total Recall (1990)</th>\n",
       "      <th>780: Independence Day (ID4) (1996)</th>\n",
       "      <th>541: Blade Runner (1982)</th>\n",
       "      <th>1265: Groundhog Day (1993)</th>\n",
       "      <th>2571: Matrix, The (1999)</th>\n",
       "      <th>527: Schindler's List (1993)</th>\n",
       "      <th>2762: Sixth Sense, The (1999)</th>\n",
       "      <th>1198: Raiders of the Lost Ark (1981)</th>\n",
       "      <th>34: Babe (1995)</th>\n",
       "    </tr>\n",
       "  </thead>\n",
       "  <tbody>\n",
       "    <tr>\n",
       "      <th>count</th>\n",
       "      <td>20.000000</td>\n",
       "      <td>15.000000</td>\n",
       "      <td>14.000000</td>\n",
       "      <td>10.000000</td>\n",
       "      <td>10.000000</td>\n",
       "      <td>16.00000</td>\n",
       "      <td>12.000000</td>\n",
       "      <td>17.000000</td>\n",
       "      <td>11.000000</td>\n",
       "      <td>11.000000</td>\n",
       "      <td>...</td>\n",
       "      <td>11.000000</td>\n",
       "      <td>12.000000</td>\n",
       "      <td>13.000000</td>\n",
       "      <td>9.000000</td>\n",
       "      <td>12.000000</td>\n",
       "      <td>12.000000</td>\n",
       "      <td>12.000000</td>\n",
       "      <td>12.000000</td>\n",
       "      <td>11.000000</td>\n",
       "      <td>10.000000</td>\n",
       "    </tr>\n",
       "    <tr>\n",
       "      <th>mean</th>\n",
       "      <td>3658.100000</td>\n",
       "      <td>3.266667</td>\n",
       "      <td>3.000000</td>\n",
       "      <td>2.700000</td>\n",
       "      <td>3.600000</td>\n",
       "      <td>3.06250</td>\n",
       "      <td>2.916667</td>\n",
       "      <td>2.823529</td>\n",
       "      <td>3.000000</td>\n",
       "      <td>3.000000</td>\n",
       "      <td>...</td>\n",
       "      <td>2.909091</td>\n",
       "      <td>1.916667</td>\n",
       "      <td>2.769231</td>\n",
       "      <td>3.222222</td>\n",
       "      <td>3.166667</td>\n",
       "      <td>2.833333</td>\n",
       "      <td>3.000000</td>\n",
       "      <td>2.833333</td>\n",
       "      <td>2.909091</td>\n",
       "      <td>3.000000</td>\n",
       "    </tr>\n",
       "    <tr>\n",
       "      <th>std</th>\n",
       "      <td>1749.716756</td>\n",
       "      <td>1.387015</td>\n",
       "      <td>1.467599</td>\n",
       "      <td>1.337494</td>\n",
       "      <td>1.646545</td>\n",
       "      <td>1.28938</td>\n",
       "      <td>1.564279</td>\n",
       "      <td>1.131111</td>\n",
       "      <td>1.414214</td>\n",
       "      <td>1.183216</td>\n",
       "      <td>...</td>\n",
       "      <td>1.513575</td>\n",
       "      <td>0.996205</td>\n",
       "      <td>1.235168</td>\n",
       "      <td>1.092906</td>\n",
       "      <td>1.585923</td>\n",
       "      <td>1.527525</td>\n",
       "      <td>1.595448</td>\n",
       "      <td>1.642245</td>\n",
       "      <td>1.578261</td>\n",
       "      <td>1.414214</td>\n",
       "    </tr>\n",
       "    <tr>\n",
       "      <th>min</th>\n",
       "      <td>139.000000</td>\n",
       "      <td>1.000000</td>\n",
       "      <td>1.000000</td>\n",
       "      <td>1.000000</td>\n",
       "      <td>1.000000</td>\n",
       "      <td>1.00000</td>\n",
       "      <td>1.000000</td>\n",
       "      <td>1.000000</td>\n",
       "      <td>1.000000</td>\n",
       "      <td>1.000000</td>\n",
       "      <td>...</td>\n",
       "      <td>1.000000</td>\n",
       "      <td>1.000000</td>\n",
       "      <td>1.000000</td>\n",
       "      <td>2.000000</td>\n",
       "      <td>1.000000</td>\n",
       "      <td>1.000000</td>\n",
       "      <td>1.000000</td>\n",
       "      <td>1.000000</td>\n",
       "      <td>1.000000</td>\n",
       "      <td>1.000000</td>\n",
       "    </tr>\n",
       "    <tr>\n",
       "      <th>25%</th>\n",
       "      <td>2558.750000</td>\n",
       "      <td>2.000000</td>\n",
       "      <td>2.000000</td>\n",
       "      <td>2.000000</td>\n",
       "      <td>2.500000</td>\n",
       "      <td>2.00000</td>\n",
       "      <td>1.750000</td>\n",
       "      <td>2.000000</td>\n",
       "      <td>2.000000</td>\n",
       "      <td>2.000000</td>\n",
       "      <td>...</td>\n",
       "      <td>2.000000</td>\n",
       "      <td>1.000000</td>\n",
       "      <td>2.000000</td>\n",
       "      <td>2.000000</td>\n",
       "      <td>2.000000</td>\n",
       "      <td>1.750000</td>\n",
       "      <td>2.000000</td>\n",
       "      <td>1.000000</td>\n",
       "      <td>1.500000</td>\n",
       "      <td>2.000000</td>\n",
       "    </tr>\n",
       "    <tr>\n",
       "      <th>50%</th>\n",
       "      <td>4252.500000</td>\n",
       "      <td>4.000000</td>\n",
       "      <td>3.000000</td>\n",
       "      <td>2.500000</td>\n",
       "      <td>4.000000</td>\n",
       "      <td>3.00000</td>\n",
       "      <td>3.000000</td>\n",
       "      <td>2.000000</td>\n",
       "      <td>3.000000</td>\n",
       "      <td>3.000000</td>\n",
       "      <td>...</td>\n",
       "      <td>3.000000</td>\n",
       "      <td>2.000000</td>\n",
       "      <td>3.000000</td>\n",
       "      <td>3.000000</td>\n",
       "      <td>3.000000</td>\n",
       "      <td>2.500000</td>\n",
       "      <td>2.500000</td>\n",
       "      <td>3.000000</td>\n",
       "      <td>3.000000</td>\n",
       "      <td>2.500000</td>\n",
       "    </tr>\n",
       "    <tr>\n",
       "      <th>75%</th>\n",
       "      <td>4916.250000</td>\n",
       "      <td>4.000000</td>\n",
       "      <td>4.000000</td>\n",
       "      <td>3.750000</td>\n",
       "      <td>5.000000</td>\n",
       "      <td>4.00000</td>\n",
       "      <td>4.000000</td>\n",
       "      <td>4.000000</td>\n",
       "      <td>4.000000</td>\n",
       "      <td>4.000000</td>\n",
       "      <td>...</td>\n",
       "      <td>4.000000</td>\n",
       "      <td>2.250000</td>\n",
       "      <td>4.000000</td>\n",
       "      <td>4.000000</td>\n",
       "      <td>5.000000</td>\n",
       "      <td>4.000000</td>\n",
       "      <td>5.000000</td>\n",
       "      <td>4.250000</td>\n",
       "      <td>4.000000</td>\n",
       "      <td>4.000000</td>\n",
       "    </tr>\n",
       "    <tr>\n",
       "      <th>max</th>\n",
       "      <td>6037.000000</td>\n",
       "      <td>5.000000</td>\n",
       "      <td>5.000000</td>\n",
       "      <td>5.000000</td>\n",
       "      <td>5.000000</td>\n",
       "      <td>5.00000</td>\n",
       "      <td>5.000000</td>\n",
       "      <td>5.000000</td>\n",
       "      <td>5.000000</td>\n",
       "      <td>5.000000</td>\n",
       "      <td>...</td>\n",
       "      <td>5.000000</td>\n",
       "      <td>4.000000</td>\n",
       "      <td>5.000000</td>\n",
       "      <td>5.000000</td>\n",
       "      <td>5.000000</td>\n",
       "      <td>5.000000</td>\n",
       "      <td>5.000000</td>\n",
       "      <td>5.000000</td>\n",
       "      <td>5.000000</td>\n",
       "      <td>5.000000</td>\n",
       "    </tr>\n",
       "  </tbody>\n",
       "</table>\n",
       "<p>8 rows × 21 columns</p>\n",
       "</div>"
      ],
      "text/plain": [
       "              User  260: Star Wars: Episode IV - A New Hope (1977)  \\\n",
       "count    20.000000                                       15.000000   \n",
       "mean   3658.100000                                        3.266667   \n",
       "std    1749.716756                                        1.387015   \n",
       "min     139.000000                                        1.000000   \n",
       "25%    2558.750000                                        2.000000   \n",
       "50%    4252.500000                                        4.000000   \n",
       "75%    4916.250000                                        4.000000   \n",
       "max    6037.000000                                        5.000000   \n",
       "\n",
       "       1210: Star Wars: Episode VI - Return of the Jedi (1983)  \\\n",
       "count                                          14.000000         \n",
       "mean                                            3.000000         \n",
       "std                                             1.467599         \n",
       "min                                             1.000000         \n",
       "25%                                             2.000000         \n",
       "50%                                             3.000000         \n",
       "75%                                             4.000000         \n",
       "max                                             5.000000         \n",
       "\n",
       "       356: Forrest Gump (1994)  318: Shawshank Redemption, The (1994)  \\\n",
       "count                 10.000000                              10.000000   \n",
       "mean                   2.700000                               3.600000   \n",
       "std                    1.337494                               1.646545   \n",
       "min                    1.000000                               1.000000   \n",
       "25%                    2.000000                               2.500000   \n",
       "50%                    2.500000                               4.000000   \n",
       "75%                    3.750000                               5.000000   \n",
       "max                    5.000000                               5.000000   \n",
       "\n",
       "       593: Silence of the Lambs, The (1991)  3578: Gladiator (2000)  \\\n",
       "count                               16.00000               12.000000   \n",
       "mean                                 3.06250                2.916667   \n",
       "std                                  1.28938                1.564279   \n",
       "min                                  1.00000                1.000000   \n",
       "25%                                  2.00000                1.750000   \n",
       "50%                                  3.00000                3.000000   \n",
       "75%                                  4.00000                4.000000   \n",
       "max                                  5.00000                5.000000   \n",
       "\n",
       "       1: Toy Story (1995)  2028: Saving Private Ryan (1998)  \\\n",
       "count            17.000000                         11.000000   \n",
       "mean              2.823529                          3.000000   \n",
       "std               1.131111                          1.414214   \n",
       "min               1.000000                          1.000000   \n",
       "25%               2.000000                          2.000000   \n",
       "50%               2.000000                          3.000000   \n",
       "75%               4.000000                          4.000000   \n",
       "max               5.000000                          5.000000   \n",
       "\n",
       "       296: Pulp Fiction (1994)       ...         \\\n",
       "count                 11.000000       ...          \n",
       "mean                   3.000000       ...          \n",
       "std                    1.183216       ...          \n",
       "min                    1.000000       ...          \n",
       "25%                    2.000000       ...          \n",
       "50%                    3.000000       ...          \n",
       "75%                    4.000000       ...          \n",
       "max                    5.000000       ...          \n",
       "\n",
       "       2396: Shakespeare in Love (1998)  2916: Total Recall (1990)  \\\n",
       "count                         11.000000                  12.000000   \n",
       "mean                           2.909091                   1.916667   \n",
       "std                            1.513575                   0.996205   \n",
       "min                            1.000000                   1.000000   \n",
       "25%                            2.000000                   1.000000   \n",
       "50%                            3.000000                   2.000000   \n",
       "75%                            4.000000                   2.250000   \n",
       "max                            5.000000                   4.000000   \n",
       "\n",
       "       780: Independence Day (ID4) (1996)  541: Blade Runner (1982)  \\\n",
       "count                           13.000000                  9.000000   \n",
       "mean                             2.769231                  3.222222   \n",
       "std                              1.235168                  1.092906   \n",
       "min                              1.000000                  2.000000   \n",
       "25%                              2.000000                  2.000000   \n",
       "50%                              3.000000                  3.000000   \n",
       "75%                              4.000000                  4.000000   \n",
       "max                              5.000000                  5.000000   \n",
       "\n",
       "       1265: Groundhog Day (1993)  2571: Matrix, The (1999)  \\\n",
       "count                   12.000000                 12.000000   \n",
       "mean                     3.166667                  2.833333   \n",
       "std                      1.585923                  1.527525   \n",
       "min                      1.000000                  1.000000   \n",
       "25%                      2.000000                  1.750000   \n",
       "50%                      3.000000                  2.500000   \n",
       "75%                      5.000000                  4.000000   \n",
       "max                      5.000000                  5.000000   \n",
       "\n",
       "       527: Schindler's List (1993)  2762: Sixth Sense, The (1999)  \\\n",
       "count                     12.000000                      12.000000   \n",
       "mean                       3.000000                       2.833333   \n",
       "std                        1.595448                       1.642245   \n",
       "min                        1.000000                       1.000000   \n",
       "25%                        2.000000                       1.000000   \n",
       "50%                        2.500000                       3.000000   \n",
       "75%                        5.000000                       4.250000   \n",
       "max                        5.000000                       5.000000   \n",
       "\n",
       "       1198: Raiders of the Lost Ark (1981)  34: Babe (1995)  \n",
       "count                             11.000000        10.000000  \n",
       "mean                               2.909091         3.000000  \n",
       "std                                1.578261         1.414214  \n",
       "min                                1.000000         1.000000  \n",
       "25%                                1.500000         2.000000  \n",
       "50%                                3.000000         2.500000  \n",
       "75%                                4.000000         4.000000  \n",
       "max                                5.000000         5.000000  \n",
       "\n",
       "[8 rows x 21 columns]"
      ]
     },
     "execution_count": 118,
     "metadata": {},
     "output_type": "execute_result"
    }
   ],
   "source": [
    "# Summarizing the data in the movie_data dataframe\n",
    "movie_data.describe()"
   ]
  },
  {
   "cell_type": "markdown",
   "metadata": {},
   "source": [
    "## Non-Personalized Recommenders for Raiders of the Lost Ark"
   ]
  },
  {
   "cell_type": "code",
   "execution_count": 119,
   "metadata": {
    "collapsed": false
   },
   "outputs": [
    {
     "data": {
      "text/plain": [
       "0    NaN\n",
       "1      3\n",
       "2      1\n",
       "3      1\n",
       "4    NaN\n",
       "5    NaN\n",
       "6      5\n",
       "7      5\n",
       "8    NaN\n",
       "9    NaN\n",
       "10     1\n",
       "11   NaN\n",
       "12     5\n",
       "13   NaN\n",
       "14     3\n",
       "15     3\n",
       "16   NaN\n",
       "17     2\n",
       "18   NaN\n",
       "19     3\n",
       "Name: 1198: Raiders of the Lost Ark (1981), dtype: float64"
      ]
     },
     "execution_count": 119,
     "metadata": {},
     "output_type": "execute_result"
    }
   ],
   "source": [
    "# Storing the \"1198: Raiders of the Lost Ark (1981)\" data into an array\n",
    "raid_lost_arc = movie_data[\"1198: Raiders of the Lost Ark (1981)\"]\n",
    "raid_lost_arc"
   ]
  },
  {
   "cell_type": "markdown",
   "metadata": {},
   "source": [
    "Mean rating for Raiders of the Lost Ark (1981)"
   ]
  },
  {
   "cell_type": "code",
   "execution_count": 120,
   "metadata": {
    "collapsed": false
   },
   "outputs": [
    {
     "name": "stdout",
     "output_type": "stream",
     "text": [
      "2.91\n"
     ]
    }
   ],
   "source": [
    "print '%.2f' % ( raid_lost_arc.mean() )"
   ]
  },
  {
   "cell_type": "markdown",
   "metadata": {},
   "source": [
    "Number of non-NA ratings for Raiders of the Lost Ark (1981)"
   ]
  },
  {
   "cell_type": "code",
   "execution_count": 121,
   "metadata": {
    "collapsed": false
   },
   "outputs": [
    {
     "data": {
      "text/plain": [
       "11"
      ]
     },
     "execution_count": 121,
     "metadata": {},
     "output_type": "execute_result"
    }
   ],
   "source": [
    "raid_lost_arc.count()"
   ]
  },
  {
   "cell_type": "markdown",
   "metadata": {},
   "source": [
    "Percentage of ratings >=4 for Raiders of the Lost Ark (1981)"
   ]
  },
  {
   "cell_type": "code",
   "execution_count": 122,
   "metadata": {
    "collapsed": false
   },
   "outputs": [
    {
     "name": "stdout",
     "output_type": "stream",
     "text": [
      "27.3\n"
     ]
    }
   ],
   "source": [
    "print '%.1f' % ( (len(raid_lost_arc[raid_lost_arc>=4])/float(raid_lost_arc.count()))*100.0 )\n"
   ]
  },
  {
   "cell_type": "markdown",
   "metadata": {},
   "source": [
    "Finding Association of Raiders of the Lost Ark (1981) with Star Wars Episode IV. The association with Star Wars Episode IV is defined as the number of users that rated BOTH Raiders of the Lost Ark (1981) and Star Wars Episode IV divided by the number of users that rated Star Wars Episode IV."
   ]
  },
  {
   "cell_type": "code",
   "execution_count": 123,
   "metadata": {
    "collapsed": false
   },
   "outputs": [],
   "source": [
    "# First, storing the Star Wars count\n",
    "star_wars_count = movie_data[\"260: Star Wars: Episode IV - A New Hope (1977)\"].count()"
   ]
  },
  {
   "cell_type": "code",
   "execution_count": 124,
   "metadata": {
    "collapsed": false
   },
   "outputs": [],
   "source": [
    "# Then multiply the Raiders of the Lost Ark and Star Wars data.\n",
    "# non-NA values will be the ones where both entries do not have NA. Then, count these entries\n",
    "rad_arc_star_wars_count = (movie_data[\"1198: Raiders of the Lost Ark (1981)\"]*movie_data[\"260: Star Wars: Episode IV - A New Hope (1977)\"]).count()"
   ]
  },
  {
   "cell_type": "markdown",
   "metadata": {},
   "source": [
    "Printing the Association of Raiders of the Lost Ark (1981) and Star Wars Episode IV"
   ]
  },
  {
   "cell_type": "code",
   "execution_count": 125,
   "metadata": {
    "collapsed": false
   },
   "outputs": [
    {
     "name": "stdout",
     "output_type": "stream",
     "text": [
      "46.7\n"
     ]
    }
   ],
   "source": [
    "print '%.1f' % ( (rad_arc_star_wars_count/float(star_wars_count))*100.0 )"
   ]
  },
  {
   "cell_type": "markdown",
   "metadata": {},
   "source": [
    "## Finding top 5 movies with the highest ratings "
   ]
  },
  {
   "cell_type": "markdown",
   "metadata": {},
   "source": [
    "Making a Pandas Series with the index name equal to the movie and the entry equal to the mean rating for each movie. Sliced the column names from of the movie_data dataframe from [1:] since the first column is the user id."
   ]
  },
  {
   "cell_type": "code",
   "execution_count": 126,
   "metadata": {
    "collapsed": false
   },
   "outputs": [],
   "source": [
    "rating_means = pd.Series([movie_data[col_name].mean() for col_name in movie_data.columns[1:]], \n",
    "                         index=movie_data.columns[1:])"
   ]
  },
  {
   "cell_type": "markdown",
   "metadata": {},
   "source": [
    "Printing the top 5 rated movies"
   ]
  },
  {
   "cell_type": "code",
   "execution_count": 127,
   "metadata": {
    "collapsed": false
   },
   "outputs": [
    {
     "data": {
      "text/plain": [
       "318: Shawshank Redemption, The (1994)             3.600000\n",
       "260: Star Wars: Episode IV - A New Hope (1977)    3.266667\n",
       "541: Blade Runner (1982)                          3.222222\n",
       "1265: Groundhog Day (1993)                        3.166667\n",
       "593: Silence of the Lambs, The (1991)             3.062500\n",
       "dtype: float64"
      ]
     },
     "execution_count": 127,
     "metadata": {},
     "output_type": "execute_result"
    }
   ],
   "source": [
    "rating_means.sort_values(ascending=False)[0:5]"
   ]
  },
  {
   "cell_type": "markdown",
   "metadata": {},
   "source": [
    "## Finding top 5 movies with the most ratings"
   ]
  },
  {
   "cell_type": "markdown",
   "metadata": {},
   "source": [
    "Making a Pandas Series with the index name equal to the movie and the entry equal to the number of non-Na ratings for each movie. Sliced the column names from of the movie_data dataframe from [1:] since the first column is the user id."
   ]
  },
  {
   "cell_type": "code",
   "execution_count": 128,
   "metadata": {
    "collapsed": true
   },
   "outputs": [],
   "source": [
    "rating_count = pd.Series([movie_data[col_name].count() for col_name in movie_data.columns[1:]], \n",
    "                         index=movie_data.columns[1:])"
   ]
  },
  {
   "cell_type": "markdown",
   "metadata": {},
   "source": [
    "Printing the top 5 movies with the most ratings"
   ]
  },
  {
   "cell_type": "code",
   "execution_count": 129,
   "metadata": {
    "collapsed": false
   },
   "outputs": [
    {
     "data": {
      "text/plain": [
       "1: Toy Story (1995)                                        17\n",
       "593: Silence of the Lambs, The (1991)                      16\n",
       "260: Star Wars: Episode IV - A New Hope (1977)             15\n",
       "1210: Star Wars: Episode VI - Return of the Jedi (1983)    14\n",
       "780: Independence Day (ID4) (1996)                         13\n",
       "dtype: int64"
      ]
     },
     "execution_count": 129,
     "metadata": {},
     "output_type": "execute_result"
    }
   ],
   "source": [
    "rating_count.sort_values(ascending=False)[0:5]"
   ]
  },
  {
   "cell_type": "markdown",
   "metadata": {},
   "source": [
    "## Top 5 movies with Percentage of ratings >=4"
   ]
  },
  {
   "cell_type": "markdown",
   "metadata": {},
   "source": [
    "Making a Pandas Series with the index name equal to the movie and the entry equal to the number of non-Na ratings for each movie. Sliced the column names from of the movie_data dataframe from [1:] since the first column is the user id."
   ]
  },
  {
   "cell_type": "code",
   "execution_count": 130,
   "metadata": {
    "collapsed": true
   },
   "outputs": [],
   "source": [
    "rating_positive = pd.Series([sum(movie_data[col_name]>=4)/float(movie_data[col_name].count()) for col_name in movie_data.columns[1:]], \n",
    "                             index=movie_data.columns[1:])"
   ]
  },
  {
   "cell_type": "markdown",
   "metadata": {},
   "source": [
    "Printing Top 5 movies with Percentage of ratings >=4"
   ]
  },
  {
   "cell_type": "code",
   "execution_count": 131,
   "metadata": {
    "collapsed": false
   },
   "outputs": [
    {
     "data": {
      "text/plain": [
       "318: Shawshank Redemption, The (1994)             0.700000\n",
       "260: Star Wars: Episode IV - A New Hope (1977)    0.533333\n",
       "3578: Gladiator (2000)                            0.500000\n",
       "541: Blade Runner (1982)                          0.444444\n",
       "593: Silence of the Lambs, The (1991)             0.437500\n",
       "dtype: float64"
      ]
     },
     "execution_count": 131,
     "metadata": {},
     "output_type": "execute_result"
    }
   ],
   "source": [
    "rating_positive.sort_values(ascending=False)[0:5]"
   ]
  },
  {
   "cell_type": "markdown",
   "metadata": {},
   "source": [
    "## Top 5 movies most similar to Star Wars (movie id =260)"
   ]
  },
  {
   "cell_type": "code",
   "execution_count": 132,
   "metadata": {
    "collapsed": false
   },
   "outputs": [
    {
     "name": "stdout",
     "output_type": "stream",
     "text": [
      "15.0\n"
     ]
    }
   ],
   "source": [
    "# First, storing the Star Wars ratings and the count of non-NA Star Wars ratings\n",
    "star_wars_rat = movie_data[\"260: Star Wars: Episode IV - A New Hope (1977)\"]\n",
    "star_wars_count = float(movie_data[\"260: Star Wars: Episode IV - A New Hope (1977)\"].count())\n",
    "print star_wars_count"
   ]
  },
  {
   "cell_type": "markdown",
   "metadata": {},
   "source": [
    "Finding Association of all movies with Star Wars Episode IV. The association with Star Wars Episode IV is defined as the number of users that rated BOTH movie i and Star Wars Episode IV divided by the number of users that rated Star Wars Episode IV. Below, we are looping over [2:] to not include Star Wars Episode IV in the Association calculation."
   ]
  },
  {
   "cell_type": "code",
   "execution_count": 133,
   "metadata": {
    "collapsed": true
   },
   "outputs": [],
   "source": [
    "sim_val = pd.Series( [ (movie_data[col_name]*star_wars_rat).count()/star_wars_count \n",
    "                     for col_name in movie_data.columns[2:] ], index=movie_data.columns[2:] )"
   ]
  },
  {
   "cell_type": "markdown",
   "metadata": {},
   "source": [
    "Printing Top 5 movies most similar to Star Wars (movie id =260)"
   ]
  },
  {
   "cell_type": "code",
   "execution_count": 134,
   "metadata": {
    "collapsed": false
   },
   "outputs": [
    {
     "data": {
      "text/plain": [
       "1: Toy Story (1995)                                        0.933333\n",
       "1210: Star Wars: Episode VI - Return of the Jedi (1983)    0.866667\n",
       "593: Silence of the Lambs, The (1991)                      0.800000\n",
       "780: Independence Day (ID4) (1996)                         0.733333\n",
       "2916: Total Recall (1990)                                  0.666667\n",
       "dtype: float64"
      ]
     },
     "execution_count": 134,
     "metadata": {},
     "output_type": "execute_result"
    }
   ],
   "source": [
    "sim_val.sort_values(ascending=False)[0:5]"
   ]
  },
  {
   "cell_type": "code",
   "execution_count": null,
   "metadata": {
    "collapsed": true
   },
   "outputs": [],
   "source": []
  }
 ],
 "metadata": {
  "kernelspec": {
   "display_name": "Python 2",
   "language": "python",
   "name": "python2"
  },
  "language_info": {
   "codemirror_mode": {
    "name": "ipython",
    "version": 2
   },
   "file_extension": ".py",
   "mimetype": "text/x-python",
   "name": "python",
   "nbconvert_exporter": "python",
   "pygments_lexer": "ipython2",
   "version": "2.7.11"
  }
 },
 "nbformat": 4,
 "nbformat_minor": 0
}
